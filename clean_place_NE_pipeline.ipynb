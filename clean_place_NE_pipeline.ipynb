{
 "cells": [
  {
   "cell_type": "code",
   "execution_count": 1039,
   "id": "200fae41",
   "metadata": {},
   "outputs": [],
   "source": [
    "import pandas as pd\n",
    "import numpy as np \n",
    "import altair as alt\n",
    "import warnings \n",
    "import seaborn as sns\n",
    "from scipy import stats\n",
    "import requests\n",
    "import os\n",
    "#import census_key\n",
    "warnings.filterwarnings('ignore')\n",
    "from urllib.request import urlopen\n",
    "import zipfile\n",
    "import requests\n",
    "import xlrd\n",
    "import openpyxl\n",
    "from openpyxl import load_workbook\n",
    "import requests, PyPDF2\n",
    "from io import BytesIO\n",
    "\n",
    "#pd.set_option('display.max_columns', 100)\n",
    "pd.options.display.float_format = '{:.2f}'.format\n",
    "pd.set_option(\"display.max_columns\", 330)"
   ]
  },
  {
   "cell_type": "code",
   "execution_count": 1040,
   "id": "4507dffd",
   "metadata": {},
   "outputs": [],
   "source": [
    "acs_2019 = pd.read_csv(\"raw_data/NE_social_explorer_acs.csv\",dtype={\"Geo_FIPS\":str}) #from social explorer \n",
    "\n",
    "acs_2019.rename(columns={\"Geo_FIPS\":\"fips_countysub\",\n",
    "                     \"ACS19_5yr_B19013001\":\"plc_med_income\",\n",
    "                     \"ACS19_5yr_B25064001\":\"plc_med_rent\",\n",
    "                     \"ACS19_5yr_B25012011\":\"plc_renter_child_households\",\n",
    "                     \"ACS19_5yr_B25115021\":\"plc_renter_child_single_parent_households_male\",\n",
    "                     \"ACS19_5yr_B25115024\":\"plc_renter_child_single_parent_households_female\",\n",
    "                        \"SE_B13004_001\":\"plc_povpop\",\n",
    "                           \"SE_B13004_002\":\"plc_belowpov\",\n",
    "                           \"ACS19_5yr_B01003001\":\"plc_pop\",\n",
    "                           \"ACS19_5yr_B25003001\":\"plc_households\",\n",
    "                           \"ACS19_5yr_B25003002\":\"plc_owners\",\n",
    "                           \"ACS19_5yr_B25003003\":\"plc_renters\",\n",
    "                           \"ACS19_5yr_B03002003\":\"plc_white\",\n",
    "                            \"ACS19_5yr_B03002004\":\"plc_black\",\n",
    "                           \"ACS19_5yr_B03002006\":\"plc_asian\",\n",
    "                            \"ACS19_5yr_B03002005\": \"plc_amin\",\n",
    "                           \"ACS19_5yr_B03002007\":\"plc_nhpil\",\n",
    "                           \"ACS19_5yr_B03002009\":\"plc_other\",\n",
    "                            \"ACS19_5yr_B03002012\":\"plc_hispanic\"\n",
    "                              },inplace=True)\n",
    "#add male and female headed households together \n",
    "acs_2019[\"plc_renter_child_single_parent_households\"] = acs_2019['plc_renter_child_single_parent_households_male'] + acs_2019[\"plc_renter_child_single_parent_households_female\"]\n",
    "acs_2019[\"plc_pov\"] = acs_2019[\"plc_belowpov\"]/acs_2019[\"plc_povpop\"]"
   ]
  },
  {
   "cell_type": "code",
   "execution_count": 1041,
   "id": "9444785f",
   "metadata": {},
   "outputs": [],
   "source": [
    "acs_2019 = acs_2019[['fips_countysub',\"Geo_NAME\",\"Geo_STUSAB\",'plc_pop',\n",
    "'plc_households',\n",
    "'plc_owners',\n",
    "'plc_renters',\n",
    "'plc_white',\n",
    "'plc_black',\n",
    "'plc_amin',\n",
    "'plc_asian',\n",
    "'plc_nhpil',\n",
    "'plc_other',\n",
    "'plc_hispanic',\n",
    "'plc_povpop',\n",
    "'plc_belowpov','plc_pov',\n",
    "'plc_med_income',\n",
    "'plc_renter_child_households',\n",
    "'plc_med_rent',\n",
    "'plc_renter_child_single_parent_households']]"
   ]
  },
  {
   "cell_type": "code",
   "execution_count": 1042,
   "id": "6f8a091c",
   "metadata": {},
   "outputs": [],
   "source": [
    "#drop out NE states and PR\n",
    "acs_2019 = acs_2019[acs_2019.Geo_STUSAB.isin([\"ct\", \"me\", \"ma\", \"nh\", \"ri\", \"vt\"])]\n",
    "#drop CDPs \n",
    "acs_2019 = acs_2019[~acs_2019.Geo_NAME.str.contains(\"CDP\")]\n",
    "#drop places that dont have a population \n",
    "acs_2019 = acs_2019[acs_2019.plc_pop > 0 ]\n",
    "#standardize capitalization \n",
    "acs_2019.Geo_NAME = acs_2019.Geo_NAME.str.title()\n",
    "#drop UT designation\n",
    "acs_2019 = acs_2019[~acs_2019.Geo_NAME.str.contains(\"Ut\")]\n",
    "#looked for gores\n",
    "acs_2019 = acs_2019[~acs_2019.Geo_NAME.str.contains(\"gore\")]"
   ]
  },
  {
   "cell_type": "code",
   "execution_count": 1043,
   "id": "b4e6fa2d",
   "metadata": {},
   "outputs": [
    {
     "data": {
      "text/plain": [
       "(1540, 21)"
      ]
     },
     "execution_count": 1043,
     "metadata": {},
     "output_type": "execute_result"
    }
   ],
   "source": [
    "acs_2019.shape"
   ]
  },
  {
   "cell_type": "markdown",
   "id": "25d05cd9",
   "metadata": {},
   "source": [
    "For mass, all county subdivision are incorporated. For Maine County subdivisions with the UT designation are \"unorganized territories\" and should be considered unincorporated, but all others should be included.\n",
    "For connecticut drop everything from Tolland and Windham counties, otherwise everythign else incorporated. \n"
   ]
  },
  {
   "cell_type": "code",
   "execution_count": 1044,
   "id": "2f750499",
   "metadata": {},
   "outputs": [],
   "source": [
    "#load in county to subcounty mapping \n",
    "county = pd.read_csv(\"raw_data/full_NE_county_county_subdivision.csv\")#from geocorr \n",
    "county[\"fips_countysub\"] = county[\"county14\"] + county[\"cousubfp14\"]\n",
    "county.rename(columns={\"county\":\"county_FIPS\",\n",
    "                         \"cntyname2\":\"cnty_name\"},inplace=True)\n",
    "county  = county[[\"fips_countysub\",\"county_FIPS\",\"cnty_name\"]]\n",
    "#additional_county_ma = pd.DataFrame(np.array([[\"2501724960\", \"25017\", \"Middlesex County\"], [\"2502156000\", \"25021\", \"Norfolk County\"], [\"2502308130\", \"25023\", \"Plymouth County\"]]),\n",
    "#                   columns=['fips_countysub', 'county_FIPS', \"cnty_name\"])\n",
    "#county = pd.concat([county,additional_county_ma])\n",
    "\n",
    "#manually add a few missing "
   ]
  },
  {
   "cell_type": "code",
   "execution_count": 1045,
   "id": "43d7f97a",
   "metadata": {},
   "outputs": [],
   "source": [
    "#merge on county mapping \n",
    "acs_2019 = acs_2019.merge(county,on=\"fips_countysub\",how=\"left\")"
   ]
  },
  {
   "cell_type": "code",
   "execution_count": 1046,
   "id": "416a3a17",
   "metadata": {},
   "outputs": [],
   "source": [
    "url = 'https://www.nh.gov/osi/resource-library/municipal/documents/unincorporated-places.pdf'#list of unicorporated palces in nh\n",
    "response = requests.get(url)\n",
    "my_raw_data = response.content\n",
    "\n",
    "with BytesIO(my_raw_data) as data:\n",
    "    read_pdf = PyPDF2.PdfFileReader(data)\n",
    "\n",
    "    for page in range(read_pdf.getNumPages()):\n",
    "        nh_unicorporated = read_pdf.getPage(page).extractText()\n",
    "        \n",
    "nh_unicorporated = nh_unicorporated.split(\"\\n\")\n",
    "nh_unicorporated = [x.strip() for x in nh_unicorporated ]\n",
    "nh_unicorporated = [x.replace(\"™\",\"\") for x in nh_unicorporated ]\n",
    "fix_nh = [\"Crawfords Purchase\", \"Cutts Grant\" ,\"Dixs Grant\" ,'Dixville']\n",
    "nh_unicorporated.extend(fix_nh)"
   ]
  },
  {
   "cell_type": "code",
   "execution_count": 1047,
   "id": "8cf204b5",
   "metadata": {},
   "outputs": [],
   "source": [
    "#remove townships from NH. #https://www.nh.gov/osi/resource-library/municipal/documents/unincorporated-places.pdf removed places from this list \n",
    "acs_2019 = acs_2019[~acs_2019.Geo_NAME.isin(nh_unicorporated)]"
   ]
  },
  {
   "cell_type": "markdown",
   "id": "ecd6c23e",
   "metadata": {},
   "source": [
    "All in email, but two or three States are fully incorporated, but some are not. Remove Gores, “VT”, \n",
    "\n",
    "In NH, she thinks, “purchase, grant or locations, except hart location. \n",
    "\n",
    "Also townships, like cambridgeship \n",
    "\n"
   ]
  },
  {
   "cell_type": "markdown",
   "id": "9ddf6ad3",
   "metadata": {},
   "source": [
    "### Load in CBDG data from 2019 and 2020"
   ]
  },
  {
   "cell_type": "code",
   "execution_count": 1048,
   "id": "e346b040",
   "metadata": {},
   "outputs": [],
   "source": [
    "#need to load in and clean cdbg 2019 \n",
    "cdbg_place = pd.read_excel(\"raw_data/fy2019-formula-allocations-AllGrantees.xlsx\", dtype={'KEY': str})\n",
    "# fix DC KEY\n",
    "cdbg_place['KEY']= cdbg_place.KEY.str.replace('119999','110006')\n",
    "# convert CDBG20 and other HUD $$ columns to integers\n",
    "hud_col = [x for x in cdbg_place.columns if x not in ['KEY','CNSRTKEY','NAME','STA']]\n",
    "for col in hud_col:\n",
    "    cdbg_place[col] = cdbg_place[col].replace({'\\$':'',',':''}, regex=True)\n",
    "    cdbg_place[col] = cdbg_place[col].fillna(0).astype(float)\n",
    "# properly capitalize the name column\n",
    "cdbg_place['NAME'] = cdbg_place['NAME'].str.title()\n",
    "\n",
    "# rename columns for merge\n",
    "cdbg_place.rename(columns={'NAME':'GEOG', 'STA':'stab'}, inplace= True)\n",
    "\n",
    "# eliminate area descriptors  \n",
    "cdbg_place['GEOG']= cdbg_place.GEOG.str.replace('Township','')\n",
    "cdbg_place['GEOG']= cdbg_place.GEOG.str.replace('City','')\n",
    "cdbg_place['GEOG']= cdbg_place.GEOG.str.replace('city','')\n",
    "cdbg_place['GEOG']= cdbg_place.GEOG.str.replace('Village','')\n",
    "cdbg_place['GEOG']= cdbg_place.GEOG.str.replace(\" Town\",'')\n",
    "cdbg_place['GEOG']= cdbg_place.GEOG.str.replace(\" town\",'')\n",
    "cdbg_place['GEOG']= cdbg_place.GEOG.str.replace(' Twp','')\n",
    "cdbg_place['GEOG']= cdbg_place.GEOG.str.replace('Ft ','Fort ')\n",
    "cdbg_place['GEOG']= cdbg_place.GEOG.str.replace('St ','St. ')\n",
    "cdbg_place['GEOG']= cdbg_place.GEOG.str.replace('Htgs ','Heights')\n",
    "cdbg_place['GEOG']= cdbg_place.GEOG.str.replace('Hts','Heights')\n",
    "cdbg_place['GEOG']= cdbg_place.GEOG.str.replace(r\"'\",\"\")\n",
    "cdbg_place['GEOG']= cdbg_place.GEOG.str.replace(r\" /County\",\"\")\n",
    "\n",
    "# implement specific textual fixes\n",
    "cdbg_place['GEOG']= cdbg_place.GEOG.str.replace('Mc Allen','McAllen')\n",
    "cdbg_place['GEOG']= cdbg_place.GEOG.str.replace('Fond Du Lac','Fond du Lac')\n",
    "cdbg_place['GEOG']= cdbg_place.GEOG.str.replace('Coeur DAlene','Coeur dAlene')\n",
    "cdbg_place['GEOG']= cdbg_place.GEOG.str.replace('Jacksonville-Duval Count','Jacksonville')\n",
    "cdbg_place['GEOG']= cdbg_place.GEOG.str.replace('Glen Falls','Glens Falls')\n",
    "cdbg_place['GEOG']= cdbg_place.GEOG.str.replace('Dekalb','DeKalb')\n",
    "cdbg_place['GEOG']= cdbg_place.GEOG.str.replace('Houma-Terrebonne','Houma')\n",
    "cdbg_place['GEOG']= cdbg_place.GEOG.str.replace('Haverford','Haverford College')\n",
    "cdbg_place['GEOG']= cdbg_place.GEOG.str.replace('Desoto','DeSoto')\n",
    "cdbg_place['GEOG']= cdbg_place.GEOG.str.replace('Mckinney','McKinney')\n",
    "cdbg_place['GEOG']= cdbg_place.GEOG.str.replace('Mckeesport','McKeesport')\n",
    "cdbg_place['GEOG']= cdbg_place.GEOG.str.replace('Mckeesport','McKeesport')\n",
    "cdbg_place['GEOG']= cdbg_place.GEOG.str.replace('Berwick Borough','Berwick')\n",
    "cdbg_place['GEOG']= cdbg_place.GEOG.str.replace('District Of Columbia','Washington')\n",
    "cdbg_place['GEOG']= cdbg_place.GEOG.str.replace(\"College College\",\"College\")\n",
    "\n",
    "#strip spaces off end of GEOG\n",
    "cdbg_place['GEOG'] = cdbg_place['GEOG'].str.strip()\n",
    "\n",
    "cdbg_place = cdbg_place[cdbg_place.stab.isin([\"CT\", \"ME\", \"MA\", \"NH\", \"RI\", \"VT\"])]\n",
    "cdbg_place.rename(columns={\"GEOG\":\"NAME\",\n",
    "                          \"stab\":\"STA\"},inplace=True)\n",
    "cdbg_place.drop(columns=[\"KEY\",\"CNSRTKEY\"],inplace=True)"
   ]
  },
  {
   "cell_type": "code",
   "execution_count": 1049,
   "id": "d6ad18d3",
   "metadata": {},
   "outputs": [],
   "source": [
    "cdbg = pd.read_csv(\"raw_data/new_england_HUD.csv\")\n",
    "cdbg.drop(columns=[\"Unnamed: 0\",\"KEY\",\"CNSRTKEY\",\"state\",\"county\",\"place\"],inplace=True)\n",
    "cdbg = cdbg.merge(cdbg_place,on=[\"NAME\",\"STA\"],how=\"left\")\n",
    "cdbg.rename(columns={\"NAME\":\"clean_name\",\n",
    "                    'CDBG20':\"plc_CDBG20\", \n",
    "                        'HOME20':\"plc_HOME20\",\n",
    "                        'ESG20':\"plc_ESG20\",\n",
    "                        'CDBG_CV1':\"plc_CDBG_CV1\", \n",
    "                        'CDBG_CV2':\"plc_CDBG_CV2\", \n",
    "                        'CDBG_CV3':\"plc_CDBG_CV3\", \n",
    "                        'ESG_CV1':\"plc_ESG_CV1\", \n",
    "                        'ESG_CV2':\"plc_ESG_CV2\",\n",
    "                        'CDBG19':\"plc_CDBG19\", \n",
    "                        'HOME19':\"plc_HOME19\", \n",
    "                        'ESG19':\"plc_ESG19\", \n",
    "                        'HOPWA19':\"plc_HOPWA19\", \n",
    "                        'HTF19':\"plc_HTF19\",\n",
    "                     'CDBG19':\"plc_CDBG19\", \n",
    "                     'HOME19':\"plc_HOME19\", \n",
    "                     'ESG19':\"plc_ESG19\", \n",
    "                     'HOPWA19':\"plc_HOPWA19\", \n",
    "                     'HTF19':\"plc_HTF19\",\n",
    "                    \"STA\":\"Geo_STUSAB\"},inplace=True)\n",
    "cdbg[\"clean_name\"] = cdbg.clean_name.str.replace(\" Town\",\"\")\n",
    "cdbg[\"clean_name\"] = cdbg[\"clean_name\"].str.replace(\" City\",\"\")"
   ]
  },
  {
   "cell_type": "code",
   "execution_count": 1050,
   "id": "ba12ae3a",
   "metadata": {},
   "outputs": [],
   "source": [
    "#remove town and city "
   ]
  },
  {
   "cell_type": "code",
   "execution_count": 1051,
   "id": "75f02b6a",
   "metadata": {},
   "outputs": [],
   "source": [
    "#to merge cdbg funds on name and state need to match format \n",
    "acs_2019[\"clean_name\"] = acs_2019.Geo_NAME.str.replace(\" Town\",\"\")\n",
    "acs_2019[\"clean_name\"] = acs_2019[\"clean_name\"].str.replace(\" City\",\"\")\n",
    "acs_2019.Geo_STUSAB = acs_2019.Geo_STUSAB.str.upper()"
   ]
  },
  {
   "cell_type": "code",
   "execution_count": 1052,
   "id": "93c1ef9c",
   "metadata": {},
   "outputs": [],
   "source": [
    "acs_2019[\"place_state\"] = acs_2019[\"clean_name\"] +\" \"+ acs_2019[\"Geo_STUSAB\"]\n",
    "cdbg[\"place_state\"] = cdbg[\"clean_name\"] +\" \"+ cdbg[\"Geo_STUSAB\"]"
   ]
  },
  {
   "cell_type": "code",
   "execution_count": 1053,
   "id": "f0429779",
   "metadata": {},
   "outputs": [],
   "source": [
    "place = acs_2019.merge(cdbg,on=[\"place_state\"],how=\"left\")"
   ]
  },
  {
   "cell_type": "code",
   "execution_count": 1054,
   "id": "6a252aac",
   "metadata": {},
   "outputs": [],
   "source": [
    "def post_merge_col_name_fix(df):\n",
    "    \"\"\"\n",
    "    Inputs:\n",
    "        df (dataframe) - Dataframe post merge where the same named cols with _x and _y are identical in values\n",
    "\n",
    "    This function looks at the typical naming conventions that occur during a merge with the same column names and fixes these inputs. \n",
    "    \"\"\"\n",
    "    for col in df.columns:\n",
    "        df.rename(columns={col:col.replace(\"_x\",\"\")},inplace=True)\n",
    "    \n",
    "    df.drop(columns=[x for x in df.columns if \"_y\" in x],inplace=True)\n",
    "\n",
    "    return df "
   ]
  },
  {
   "cell_type": "code",
   "execution_count": 1055,
   "id": "fc7f8d57",
   "metadata": {},
   "outputs": [],
   "source": [
    "place = post_merge_col_name_fix(place)"
   ]
  },
  {
   "cell_type": "code",
   "execution_count": 1056,
   "id": "bc3d99ea",
   "metadata": {},
   "outputs": [],
   "source": [
    "### load in treasury ERAP data \n",
    "state_names = pd.read_csv(\"https://raw.githubusercontent.com/jasonong/List-of-US-States/master/states.csv\")\n",
    "\n",
    "erap1 = pd.read_excel(\"raw_data/November-ERA-Data.xlsx\",sheet_name=\"ERA1 State & Local Reporting\")\n",
    "erap2 = pd.read_excel(\"raw_data/November-ERA-Data.xlsx\",sheet_name=\"ERA2 State & Local Reporting\")\n",
    "\n",
    "def make_header(df):\n",
    "    \"\"\"\n",
    "    do some basic cleanup of the header row \n",
    "    \"\"\"\n",
    "    new_header = df.iloc[0] #grab the first row for the header\n",
    "    df = df[1:] #take the data less the header row\n",
    "    df.columns = new_header\n",
    "    return df\n",
    "erap1 = make_header(erap1)\n",
    "erap2 = make_header(erap2)\n",
    "erap1[\"State\"] = \"\"\n",
    "erap2[\"State\"] = \"\"\n",
    "\n",
    "excel_file_erap1 = 'raw_data/November-ERA-Data.xlsx' \n",
    "wb_erap1 = load_workbook(excel_file_erap1, data_only = True)\n",
    "sh_erap1 = wb_erap1['ERA1 State & Local Reporting']\n",
    "\n",
    "#need to add labels for states - here im looking at color changes as in \n",
    "#excel sheet each state is highlighted, so we can change label we want whenever, we index\n",
    "#through and see a new color \n",
    "state_name = \"California\"\n",
    "for i in range(erap1.shape[0]):\n",
    "    if i == 0:\n",
    "        continue\n",
    "    color_in_hex =sh_erap1['A'+str(i)].fill.start_color.tint\n",
    "    if color_in_hex > 0:\n",
    "        state_name = sh_erap1['A'+str(i)].value\n",
    "    erap1.loc[i, \"State\"] = state_name    \n",
    "    \n",
    "excel_file_erap2 = 'raw_data/November-ERA-Data.xlsx' \n",
    "wb_erap2 = load_workbook(excel_file_erap2, data_only = True)\n",
    "sh_erap2 = wb_erap1['ERA2 State & Local Reporting']\n",
    "\n",
    "state_name = \"California\"\n",
    "for i in range(erap2.shape[0]):\n",
    "    if i == 0:\n",
    "        continue\n",
    "    color_in_hex =sh_erap2['A'+str(i)].fill.start_color.tint\n",
    "    if color_in_hex > 0:\n",
    "        state_name = sh_erap2['A'+str(i)].value\n",
    "    erap2.loc[i,\"State\"] = state_name   \n",
    "erap1 = make_header(erap1)\n",
    "erap2 = make_header(erap2)\n",
    "erap1.rename(columns={\"California\":\"State\"},inplace=True)\n",
    "erap2.rename(columns={\"California\":\"State\"},inplace=True)\n",
    "erap1 = erap1[erap1.Location != \"Grand Total\"]\n",
    "erap2 = erap2[erap2.Location != \"Grand Total\"]\n",
    "erap1=erap1.dropna(axis=1, how='all')\n",
    "erap2=erap2.dropna(axis=1, how='all')\n",
    "#merge data and drop DC \n",
    "erap1 = erap1.merge(state_names,on=\"State\")\n",
    "erap2 = erap2.merge(state_names,on=\"State\")\n",
    "erap1 = erap1[erap1.Location != \"State/DC\"]\n",
    "erap2 = erap2[erap2.Location != \"State/DC\"]\n",
    "\n",
    "#sum up funds and number of houesholds funds disbursed to \n",
    "erap1[\"Total Number of Households ERAP1 (Direct Allocation)\"] = erap1[[x for x in erap1 if \"Total\" in x]].sum(axis=1)\n",
    "erap2[\"Total Number of Households ERAP2 (Direct Allocation)\"] = erap2[[x for x in erap2 if \"Total\" in x]].sum(axis=1)\n",
    "erap1[\"ERAP1_total_funds (Direct Allocation)\"] = erap1[[x for x in erap1.columns if \"Amount\" in x]].sum(axis=1)\n",
    "erap2[\"ERAP2_total_funds (Direct Allocation)\"] = erap2[[x for x in erap2.columns if \"Amount\" in x]].sum(axis=1)\n",
    "#flag footnote six and then strip out \n",
    "#6Local government recipient that has redirected or will redirect ERA 1 funds to their county or state government. only exits in erap1\n",
    "erap1[\"ERAP1_redirected_funds\"] = np.where(erap1.Location.str.contains(\"6\"),1,0)\n",
    "erap1.Location = erap1.Location.str.strip(\"6\")\n",
    "\n",
    "erap1.rename(columns={\"Assistance to Households Expenditure Ratio as of November 305,7\":\"Assistance to Households Expenditure Ratio as of November ERAP_1 (Direct Allocation)\"},inplace=True)\n",
    "#need to calculate this for ERAP 2 because no longer provided- calcuate figure\n",
    "#for ERAP2 using footnote 5 for ERAP 1 \"5Calculated as the sum of Q1, April, May, June, July, August, September, October, and November expenditure for assistance to households divided by 90% of the ERA1 allocation amount.\"\n",
    "erap2[\"Assistance to Households Expenditure Ratio as of November ERAP_2 (Direct Allocation)\"] = erap2[\"ERAP2_total_funds (Direct Allocation)\"]/ (erap2[\"Full ERA2 Allocation, Award, and Disbursement \\n$ Millions4\"] * 0.9)\n",
    "\n",
    "total = erap1.merge(erap2,on=[\"Location\",\"State\",\"Abbreviation\"],how=\"outer\")\n",
    "\n",
    "#keep only cols i want to merge onto the other 990 data\n",
    "total_subset = total[[\"Location\",\"ERAP1_total_funds (Direct Allocation)\",'Assistance to Households Expenditure Ratio as of November ERAP_1 (Direct Allocation)',\n",
    "      'Total Number of Households ERAP1 (Direct Allocation)','Assistance to Households Expenditure Ratio as of November ERAP_2 (Direct Allocation)',\n",
    "      'ERAP2_total_funds (Direct Allocation)','Total Number of Households ERAP2 (Direct Allocation)',\"ERAP1_redirected_funds\",\"State\",\"Abbreviation\"]]\n",
    "\n",
    "total_subset_merge = total_subset.rename(columns={\"Location\":\"County\"})\n",
    "\n",
    "total_subset_merge[\"County Name\"] = total_subset_merge[\"County\"] +\" \"+ total_subset_merge[\"Abbreviation\"]\n",
    "total_subset_merge = total_subset_merge.drop(columns={\"County\",\"State\",\"Abbreviation\"})\n",
    "#fix mis name \n",
    "total_subset_merge.replace({\"County Name\":{\n",
    "                                         'Dekalb County GA':\"DeKalb County GA\"}},inplace=True)\n",
    "\n",
    "#clean up and fix type of expenditure ratio \n",
    "\n",
    "total_subset_merge['Assistance to Households Expenditure Ratio as of November ERAP_1 (Direct Allocation)'] = total_subset_merge['Assistance to Households Expenditure Ratio as of November ERAP_1 (Direct Allocation)'].astype(str).str.strip(\"%\")\n",
    "total_subset_merge['Assistance to Households Expenditure Ratio as of November ERAP_2 (Direct Allocation)'] = total_subset_merge['Assistance to Households Expenditure Ratio as of November ERAP_2 (Direct Allocation)'].astype(str).str.strip(\"%\")\n",
    "total_subset_merge['Assistance to Households Expenditure Ratio as of November ERAP_1 (Direct Allocation)'] = total_subset_merge['Assistance to Households Expenditure Ratio as of November ERAP_1 (Direct Allocation)'].astype(str).str.strip(\"+\")\n",
    "total_subset_merge['Assistance to Households Expenditure Ratio as of November ERAP_2 (Direct Allocation)'] = total_subset_merge['Assistance to Households Expenditure Ratio as of November ERAP_2 (Direct Allocation)'].astype(str).str.strip(\"+\")\n",
    "total_subset_merge['Assistance to Households Expenditure Ratio as of November ERAP_1 (Direct Allocation)'] = total_subset_merge['Assistance to Households Expenditure Ratio as of November ERAP_1 (Direct Allocation)'].astype(float)\n",
    "total_subset_merge['Assistance to Households Expenditure Ratio as of November ERAP_2 (Direct Allocation)'] = total_subset_merge['Assistance to Households Expenditure Ratio as of November ERAP_2 (Direct Allocation)'].astype(float)"
   ]
  },
  {
   "cell_type": "code",
   "execution_count": 1057,
   "id": "d9030f52",
   "metadata": {},
   "outputs": [],
   "source": [
    "erap_new = total_subset_merge[total_subset_merge[\"County Name\"].str.contains(\"City\")]\n"
   ]
  },
  {
   "cell_type": "code",
   "execution_count": 1058,
   "id": "967b049f",
   "metadata": {},
   "outputs": [],
   "source": [
    "#Boston is the only treasury data that maps to this NE data. \n",
    "erap_new = erap_new[erap_new[\"County Name\"].str.contains(\"MA\")]"
   ]
  },
  {
   "cell_type": "code",
   "execution_count": 1059,
   "id": "98b2c88a",
   "metadata": {},
   "outputs": [],
   "source": [
    "erap_new.rename(columns={\"County Name\":\"Geo_NAME\"},inplace=True)\n",
    "erap_new.replace({\"Geo_NAME\":{\"City of Boston MA\":\"Boston City\"}},inplace=True)"
   ]
  },
  {
   "cell_type": "code",
   "execution_count": 1060,
   "id": "b100c936",
   "metadata": {},
   "outputs": [],
   "source": [
    "place = place.merge(erap_new,on=\"Geo_NAME\",how=\"left\")\n",
    "place.rename(columns={'ERAP1_total_funds (Direct Allocation)':\"plc_erap1_funds\",\n",
    "       'Assistance to Households Expenditure Ratio as of November ERAP_1 (Direct Allocation)':\"plc_ratio_erap_1\",\n",
    "       'Total Number of Households ERAP1 (Direct Allocation)':\"plc_hh_erap_1\",\n",
    "       'Assistance to Households Expenditure Ratio as of November ERAP_2 (Direct Allocation)':\"plc_ratio_erap_2\",\n",
    "       'ERAP2_total_funds (Direct Allocation)':\"plc_erap2_funds\", 'Total Number of Households ERAP2 (Direct Allocation)':\"plc_hh_erap_2\"},inplace=True)"
   ]
  },
  {
   "cell_type": "markdown",
   "id": "4f0aebad",
   "metadata": {},
   "source": [
    "### Add AMI data place "
   ]
  },
  {
   "cell_type": "code",
   "execution_count": 1061,
   "id": "c2b61dd2",
   "metadata": {},
   "outputs": [],
   "source": [
    "#read in AMI data, create county level FIPS \n",
    "ami = pd.read_excel(\"raw_data/hud_ami_2019.xlsx\",dtype={\"fips2010\":str})\n",
    "#ami.State = ami.State.astype(str).str.zfill(2)\n",
    "#ami.County = ami.County.astype(str).str.zfill(3)\n",
    "#ami[\"FIPS\"] = ami.State + ami.County\n",
    "ami = ami[[\"Metro_Area_Name\",\"l50_4\",\"fips2010\"]]\n",
    "#ami = ami.drop_duplicates(subset=[\"county14\"])\n",
    "ami.rename(columns={\"fips2010\":\"fips_countysub\"},inplace=True)"
   ]
  },
  {
   "cell_type": "code",
   "execution_count": 1062,
   "id": "be4a8257",
   "metadata": {},
   "outputs": [],
   "source": [
    "#additional_county_ma = pd.DataFrame(np.array([[\"2501724960\", \"25017\", \"Middlesex County\"], [\"2502156000\", \"25021\", \"Norfolk County\"], [\"2502308130\", \"25023\", \"Plymouth County\"]]),\n",
    "#                   columns=['fips_countysub', 'county_FIPS', \"cnty_name\"])\n",
    "#county = pd.concat([county,additional_county_ma]) "
   ]
  },
  {
   "cell_type": "code",
   "execution_count": 1063,
   "id": "21cb3e6a",
   "metadata": {},
   "outputs": [],
   "source": [
    "additional_ami = pd.DataFrame(np.array([[\"Boston-Cambridge-Quincy, MA-NH HUD Metro FMR Area\",59250,\"2501724960\"],\n",
    "                                        [\"Boston-Cambridge-Quincy, MA-NH HUD Metro FMR Area\",59250,\"2502156000\"],\n",
    "                                        [\"Brockton, MA HUD Metro FMR Area\",46250,\"2502308130\"]]),\n",
    "                                       columns=['Metro_Area_Name', 'l50_4', \"fips_countysub\"])\n",
    "ami = pd.concat([ami,additional_ami])"
   ]
  },
  {
   "cell_type": "code",
   "execution_count": 1064,
   "id": "25efbc4c",
   "metadata": {},
   "outputs": [],
   "source": [
    "ami.l50_4 = ami.l50_4.astype(int)"
   ]
  },
  {
   "cell_type": "code",
   "execution_count": 1065,
   "id": "a12905a9",
   "metadata": {},
   "outputs": [],
   "source": [
    "place = place.merge(ami,on=\"fips_countysub\",how=\"left\")"
   ]
  },
  {
   "cell_type": "code",
   "execution_count": 1066,
   "id": "ab59dd3e",
   "metadata": {},
   "outputs": [],
   "source": [
    "se_data = pd.read_csv(\"raw_data/NE_renter_income_levels.csv\",dtype={\"Geo_FIPS\":str})\n",
    "se_data= se_data[[\"Geo_FIPS\",\"Geo_NAME\",\"Geo_STUSAB\",\n",
    "                'SE_A14001_001',\n",
    " 'SE_A14001_002',\n",
    " 'SE_A14001_003',\n",
    " 'SE_A14001_004',\n",
    " 'SE_A14001_005',\n",
    " 'SE_A14001_006',\n",
    " 'SE_A14001_007',\n",
    " 'SE_A14001_008',\n",
    " 'SE_A14001_009',\n",
    " 'SE_A14001_010',\n",
    " 'SE_A14001_011',\n",
    " 'SE_A14001_012',\n",
    " 'SE_A14001_013',\n",
    " 'SE_A14001_014',\n",
    " 'SE_A14001_015',\n",
    " 'SE_A14001_016',\n",
    " 'SE_A14001_017',\n",
    " 'ACS19_5yr_B25118001',\n",
    " 'ACS19_5yr_B25118002',\n",
    " 'ACS19_5yr_B25118003',\n",
    " 'ACS19_5yr_B25118004',\n",
    " 'ACS19_5yr_B25118005',\n",
    " 'ACS19_5yr_B25118006',\n",
    " 'ACS19_5yr_B25118007',\n",
    " 'ACS19_5yr_B25118008',\n",
    " 'ACS19_5yr_B25118009',\n",
    " 'ACS19_5yr_B25118010',\n",
    " 'ACS19_5yr_B25118011',\n",
    " 'ACS19_5yr_B25118012',\n",
    " 'ACS19_5yr_B25118013',\n",
    " 'ACS19_5yr_B25118014',\n",
    " 'ACS19_5yr_B25118015',\n",
    " 'ACS19_5yr_B25118016',\n",
    " 'ACS19_5yr_B25118017',\n",
    " 'ACS19_5yr_B25118018',\n",
    " 'ACS19_5yr_B25118019',\n",
    " 'ACS19_5yr_B25118020',\n",
    " 'ACS19_5yr_B25118021',\n",
    " 'ACS19_5yr_B25118022',\n",
    " 'ACS19_5yr_B25118023',\n",
    " 'ACS19_5yr_B25118024',\n",
    " 'ACS19_5yr_B25118025']]\n",
    "\n",
    "se_data.rename(columns={'SE_A14001_001':\"Total_households_2019\",\n",
    "                       'SE_A14001_002':\"Total_income_under_10k\",\n",
    "                       'SE_A14001_003':\"Total_income_10k_15k\", \n",
    "                       'SE_A14001_004':\"Total_income_15k_20k\", \n",
    "                       'SE_A14001_005':\"Total_income_20k_25k\", \n",
    "                       'SE_A14001_006':\"Total_income_25k_30k\",\n",
    "                       'SE_A14001_007':\"Total_income_30k_35k\", \n",
    "                       'SE_A14001_008':\"Total_income_35k_40k\", \n",
    "                       'SE_A14001_009':\"Total_income_40k_45k\", \n",
    "                       'SE_A14001_010':\"Total_income_45k_50k\",\n",
    "                       'SE_A14001_011':\"Total_income_50k_60k\", \n",
    "                       'SE_A14001_012':\"Total_income_60k_75k\", \n",
    "                       'SE_A14001_013':\"Total_income_75k-100k\", \n",
    "                       'SE_A14001_014':\"Total_income_100k_125k\",\n",
    "                       'SE_A14001_015':\"Total_income_125k_150k\", \n",
    "                       'SE_A14001_016':\"Total_income_150k_200k\", \n",
    "                       'SE_A14001_017':\"Total_income_200k+\",\n",
    "                       'ACS19_5yr_B25118014':\"Total_renter_occupied_Households_2019\", \n",
    "                       'ACS19_5yr_B25118015':\"Renter_total_income_under_5k\", \n",
    "                       'ACS19_5yr_B25118016':\"Renter_total_income_5k_10k\",\n",
    "                       'ACS19_5yr_B25118017':\"Renter_total_income_10k_15k\", \n",
    "                       'ACS19_5yr_B25118018':\"Renter_total_income_15k_20k\", \n",
    "                       'ACS19_5yr_B25118019':\"Renter_total_income_20k_25k\",\n",
    "                       'ACS19_5yr_B25118020':\"Renter_total_income_25k_35k\", \n",
    "                       'ACS19_5yr_B25118021':\"Renter_total_income_35k_50k\", \n",
    "                       'ACS19_5yr_B25118022':\"Renter_total_income_50k_75k\",\n",
    "                       'ACS19_5yr_B25118023':\"Renter_total_income_75k_100k\", \n",
    "                       'ACS19_5yr_B25118024':\"Renter_total_income_100k_150k\", \n",
    "                       'ACS19_5yr_B25118025':\"Renter_total_income_150k+\"},inplace=True)\n",
    "se_data.rename(columns={\"Geo_FIPS\":\"fips_countysub\"},inplace=True)\n",
    "#se_data = se_data.merge(ami,on=\"fips_place\",how=\"left\")\n",
    "#places_final = se_data.drop_duplicates(subset=[\"fips_place\",\"Total_income_under_10k\"])"
   ]
  },
  {
   "cell_type": "code",
   "execution_count": 1067,
   "id": "3097b790",
   "metadata": {},
   "outputs": [],
   "source": [
    "place_income_merge = place[[\"fips_countysub\",\"l50_4\"]]"
   ]
  },
  {
   "cell_type": "code",
   "execution_count": 1068,
   "id": "9f0e2fff",
   "metadata": {},
   "outputs": [],
   "source": [
    "se_data  = place_income_merge.merge(se_data,on=\"fips_countysub\",how=\"left\")#added left "
   ]
  },
  {
   "cell_type": "code",
   "execution_count": 1069,
   "id": "8876eb2d",
   "metadata": {},
   "outputs": [],
   "source": [
    "places_final_total = se_data[[\"fips_countysub\",'l50_4', 'Total_income_under_10k',\n",
    "       'Total_income_10k_15k', 'Total_income_15k_20k', 'Total_income_20k_25k',\n",
    "       'Total_income_25k_30k', 'Total_income_30k_35k', 'Total_income_35k_40k',\n",
    "       'Total_income_40k_45k', 'Total_income_45k_50k', 'Total_income_50k_60k',\n",
    "       'Total_income_60k_75k', 'Total_income_75k-100k',\n",
    "       'Total_income_100k_125k', 'Total_income_125k_150k',\n",
    "       'Total_income_150k_200k', 'Total_income_200k+']]\n",
    "\n",
    "places_final_rental = se_data[[\"fips_countysub\",'l50_4','Renter_total_income_under_5k',\n",
    "       'Renter_total_income_5k_10k', 'Renter_total_income_10k_15k',\n",
    "       'Renter_total_income_15k_20k', 'Renter_total_income_20k_25k',\n",
    "       'Renter_total_income_25k_35k', 'Renter_total_income_35k_50k',\n",
    "       'Renter_total_income_50k_75k', 'Renter_total_income_75k_100k',\n",
    "       'Renter_total_income_100k_150k', 'Renter_total_income_150k+']]"
   ]
  },
  {
   "cell_type": "code",
   "execution_count": 1070,
   "id": "a0903f5f",
   "metadata": {},
   "outputs": [],
   "source": [
    "places_final_rental_melt=places_final_rental.melt(id_vars=[\"l50_4\",\"fips_countysub\"])\n",
    "#second number 9,999\n",
    "lower_dict_renter={'Renter_total_income_under_5k':0, \n",
    "'Renter_total_income_5k_10k':5000,\n",
    "'Renter_total_income_10k_15k':10000, \n",
    "'Renter_total_income_15k_20k':15000,\n",
    "'Renter_total_income_20k_25k':20000, \n",
    "'Renter_total_income_25k_35k':25000,\n",
    "'Renter_total_income_35k_50k':35000, \n",
    "'Renter_total_income_50k_75k':50000,\n",
    "'Renter_total_income_75k_100k':75000, \n",
    "'Renter_total_income_100k_150k':100000,\n",
    "'Renter_total_income_150k+':150000}\n",
    "\n",
    "upper_dict_renter={'Renter_total_income_under_5k':4999, \n",
    "'Renter_total_income_5k_10k':9999,\n",
    "'Renter_total_income_10k_15k':14999, \n",
    "'Renter_total_income_15k_20k':19999,\n",
    "'Renter_total_income_20k_25k':24999, \n",
    "'Renter_total_income_25k_35k':34999,\n",
    "'Renter_total_income_35k_50k':49999, \n",
    "'Renter_total_income_50k_75k':74999,\n",
    "'Renter_total_income_75k_100k':99999, \n",
    "'Renter_total_income_100k_150k':149990,\n",
    "'Renter_total_income_150k+':200000}\n",
    "\n",
    "def calc_bounds(l50_4,value,lower_bound,upper_bound):\n",
    "    if l50_4 > upper_bound:\n",
    "        return value\n",
    "    if l50_4 <= upper_bound:\n",
    "        if l50_4 > lower_bound:\n",
    "            tmp = upper_bound - lower_bound\n",
    "            tmp2 = np.abs(lower_bound - l50_4)\n",
    "            return round((tmp2/tmp)*value)\n",
    "        else:\n",
    "            return 0\n",
    "        \n",
    "places_final_rental_melt[\"lower_bound\"] =  places_final_rental_melt['variable'].map(lower_dict_renter)\n",
    "places_final_rental_melt[\"upper_bound\"] =  places_final_rental_melt['variable'].map(upper_dict_renter)\n",
    "#calculate lower and upper bound \n",
    "places_final_rental_melt['Renters_Below_50%ami'] = places_final_rental_melt.apply(lambda x: calc_bounds(x.l50_4,x.value,x.lower_bound,x.upper_bound), axis=1)\n",
    "#get total sum of rentersd below 50% AMI \n",
    "renter_counts = places_final_rental_melt[[\"fips_countysub\",\"Renters_Below_50%ami\"]].groupby(\"fips_countysub\").sum().reset_index()\n",
    "#create mapping of geocode to total number of renters \n",
    "places_final_total_renter = place[[\"plc_renters\",\"fips_countysub\"]]\n",
    "places_final_total_renter_grouped = places_final_total_renter.merge(renter_counts,on=\"fips_countysub\",how=\"left\")#added left \n",
    "places_final_total_renter_grouped[\"Percent_of_Renter_Households_Below_50%AMI\"] = 100*(places_final_total_renter_grouped[\"Renters_Below_50%ami\"]/places_final_total_renter_grouped[\"plc_renters\"])"
   ]
  },
  {
   "cell_type": "markdown",
   "id": "04f77059",
   "metadata": {},
   "source": [
    "### now same thing for total number of households "
   ]
  },
  {
   "cell_type": "code",
   "execution_count": 1071,
   "id": "fdff583e",
   "metadata": {},
   "outputs": [],
   "source": [
    "places_final_total_melt = places_final_total.melt(id_vars=['fips_countysub', 'l50_4'])\n",
    "lower_dict_total = {'Total_income_under_10k':0, \n",
    "                    'Total_income_10k_15k':10000,\n",
    "                    'Total_income_15k_20k':15000, \n",
    "                    'Total_income_20k_25k':20000, \n",
    "                    'Total_income_25k_30k':25000,\n",
    "                    'Total_income_30k_35k':30000, \n",
    "                    'Total_income_35k_40k':35000, \n",
    "                    'Total_income_40k_45k':40000,\n",
    "                    'Total_income_45k_50k':45000, \n",
    "                    'Total_income_50k_60k':50000, \n",
    "                    'Total_income_60k_75k':60000,\n",
    "                    'Total_income_75k-100k':75000, \n",
    "                    'Total_income_100k_125k':100000,\n",
    "                    'Total_income_125k_150k':125000, \n",
    "                    'Total_income_150k_200k':150000,\n",
    "                    'Total_income_200k+':200000\n",
    "    \n",
    "}\n",
    "upper_dict_total = {'Total_income_under_10k':9999, \n",
    "                    'Total_income_10k_15k':14999,\n",
    "                    'Total_income_15k_20k':19999, \n",
    "                    'Total_income_20k_25k':24999, \n",
    "                    'Total_income_25k_30k':29999,\n",
    "                    'Total_income_30k_35k':34999, \n",
    "                    'Total_income_35k_40k':39999, \n",
    "                    'Total_income_40k_45k':44999,\n",
    "                    'Total_income_45k_50k':49999, \n",
    "                    'Total_income_50k_60k':59999, \n",
    "                    'Total_income_60k_75k':74999,\n",
    "                    'Total_income_75k-100k':99999, \n",
    "                    'Total_income_100k_125k':124999,\n",
    "                    'Total_income_125k_150k':149999, \n",
    "                    'Total_income_150k_200k':199999,\n",
    "                    'Total_income_200k+':300000\n",
    "    \n",
    "}\n",
    "places_final_total_melt[\"lower_bound\"]= places_final_total_melt['variable'].map(lower_dict_total)\n",
    "places_final_total_melt[\"upper_bound\"]= places_final_total_melt['variable'].map(upper_dict_total)\n",
    "#calculate lower and upper bound \n",
    "places_final_total_melt['Total_Households_Below_50%ami'] = places_final_total_melt.apply(lambda x: calc_bounds(x.l50_4,x.value,x.lower_bound,x.upper_bound), axis=1)\n",
    "#get total sum of rentersd below 50% AMI \n",
    "total_counts = places_final_total_melt[[\"fips_countysub\",\"Total_Households_Below_50%ami\"]].groupby(\"fips_countysub\").sum().reset_index()\n",
    "#create mapping of geocode to total number of renters \n",
    "places_final_total = place[[\"plc_households\",\"fips_countysub\"]]\n",
    "places_final_total_grouped = total_counts.merge(places_final_total,on=\"fips_countysub\")\n",
    "places_final_total_grouped[\"Percent_of_Households_Below_50%AMI\"] = 100*(places_final_total_grouped[\"Total_Households_Below_50%ami\"]/places_final_total_grouped[\"plc_households\"])"
   ]
  },
  {
   "cell_type": "code",
   "execution_count": 1072,
   "id": "a18bcbec",
   "metadata": {},
   "outputs": [],
   "source": [
    "final_df = places_final_total_renter_grouped.merge(places_final_total_grouped,on=\"fips_countysub\",how=\"left\")#added left "
   ]
  },
  {
   "cell_type": "code",
   "execution_count": 1073,
   "id": "ebb63fe6",
   "metadata": {},
   "outputs": [],
   "source": [
    "final_df = final_df[[\"fips_countysub\",\"Total_Households_Below_50%ami\",\"Renters_Below_50%ami\"]]"
   ]
  },
  {
   "cell_type": "code",
   "execution_count": 1074,
   "id": "928d3382",
   "metadata": {},
   "outputs": [],
   "source": [
    "final_df.rename(columns={\"Total_Households_Below_50%ami\":\"plc_sub50_ami\",\n",
    "                    \"Renters_Below_50%ami\":\"plc_sub50_ami_renter\"},inplace=True)"
   ]
  },
  {
   "cell_type": "code",
   "execution_count": 1075,
   "id": "18a0947b",
   "metadata": {},
   "outputs": [],
   "source": [
    "place = place.merge(final_df,on=[\"fips_countysub\"],how=\"left\")"
   ]
  },
  {
   "cell_type": "code",
   "execution_count": 1076,
   "id": "5329be25",
   "metadata": {},
   "outputs": [],
   "source": [
    "place.rename(columns={\"Metro_Area_Name\":\"metro_area_name\",\n",
    "                     \"l50_4\":\"50%AMI_Threshold\",\n",
    "                     \"Geo_NAME\":\"plc_name\",\n",
    "                     \"cnty_name\":\"cntyname\",\n",
    "                     \"county_FIPS\":\"county_fips\",\n",
    "                     \"Geo_STUSAB\":\"stab\"},inplace=True)"
   ]
  },
  {
   "cell_type": "code",
   "execution_count": 1077,
   "id": "83424c01",
   "metadata": {},
   "outputs": [
    {
     "data": {
      "text/plain": [
       "47"
      ]
     },
     "execution_count": 1077,
     "metadata": {},
     "output_type": "execute_result"
    }
   ],
   "source": [
    "len(['stab','metro_area_name', 'cntyname', 'county_fips', 'plc_name', 'fips_countysub', 'plc_pop',\n",
    "       'plc_households', 'plc_owners', 'plc_renters', 'plc_white', 'plc_black',\n",
    "       'plc_amin', 'plc_asian', 'plc_nhpil', 'plc_hispanic', 'plc_other',\n",
    "       'plc_povpop', 'plc_belowpov', 'plc_pov', 'plc_med_income',\n",
    "       'plc_med_rent', 'plc_renter_child_households',\n",
    "       'plc_renter_child_single_parent_households','plc_sub50_ami', 'plc_sub50_ami_renter',\"50%AMI_Threshold\",'plc_CDBG20', 'plc_HOME20',\n",
    "       'plc_ESG20', 'plc_CDBG_CV1', 'plc_CDBG_CV2', 'plc_CDBG_CV3',\n",
    "       'plc_ESG_CV1', 'plc_ESG_CV2', 'plc_CDBG19', 'plc_HOME19', 'plc_ESG19',\n",
    "       'plc_HOPWA19', 'plc_HTF19', 'plc_erap1_funds', 'plc_ratio_erap_1',\n",
    "       'plc_hh_erap_1', 'plc_erap2_funds', 'plc_ratio_erap_2', 'plc_hh_erap_2',\n",
    "       'Entitlement_Community_Flag'])"
   ]
  },
  {
   "cell_type": "code",
   "execution_count": 1078,
   "id": "3c90deda",
   "metadata": {},
   "outputs": [],
   "source": [
    "#place.to_csv(\"processed_data/NE_Places_final_1_26_22.csv\")"
   ]
  },
  {
   "cell_type": "code",
   "execution_count": 1079,
   "id": "7ad2f2db",
   "metadata": {},
   "outputs": [],
   "source": [
    "#additional_county_ma = pd.DataFrame(np.array([[\"2501724960\", \"25017\", \"Middlesex County\"], [\"2502156000\", \"25021\", \"Norfolk County\"], [\"2502308130\", \"25023\", \"Plymouth County\"]]),\n",
    "#                   columns=['fips_countysub', 'county_FIPS', \"cnty_name\"])\n",
    "#county = pd.concat([county,additional_county_ma])"
   ]
  },
  {
   "cell_type": "code",
   "execution_count": 1080,
   "id": "c5179513",
   "metadata": {},
   "outputs": [],
   "source": [
    "place.at[854,\"cntyname\"]= \"Middlesex County\"\n",
    "place.at[854,\"county_fips\"]= \"25017\"\n",
    "place.at[912,\"cntyname\"]= \"Norfolk County\"\n",
    "place.at[912,\"county_fips\"]= \"25021\"\n",
    "place.at[921,\"cntyname\"]= \"Plymouth County\"\n",
    "place.at[921,\"county_fips\"]= \"25023\""
   ]
  },
  {
   "cell_type": "code",
   "execution_count": 1081,
   "id": "3b447dc3",
   "metadata": {},
   "outputs": [],
   "source": [
    "place = place[['stab','metro_area_name', 'cntyname', 'county_fips', 'plc_name', 'fips_countysub', 'plc_pop',\n",
    "       'plc_households', 'plc_owners', 'plc_renters', 'plc_white', 'plc_black',\n",
    "       'plc_amin', 'plc_asian', 'plc_nhpil', 'plc_hispanic', 'plc_other',\n",
    "       'plc_povpop', 'plc_belowpov', 'plc_pov', 'plc_med_income',\n",
    "       'plc_med_rent', 'plc_renter_child_households',\n",
    "       'plc_renter_child_single_parent_households','plc_sub50_ami', 'plc_sub50_ami_renter',\"50%AMI_Threshold\",'plc_CDBG20', 'plc_HOME20',\n",
    "       'plc_ESG20', 'plc_CDBG_CV1', 'plc_CDBG_CV2', 'plc_CDBG_CV3',\n",
    "       'plc_ESG_CV1', 'plc_ESG_CV2', 'plc_CDBG19', 'plc_HOME19', 'plc_ESG19',\n",
    "       'plc_HOPWA19', 'plc_HTF19', 'plc_erap1_funds', 'plc_ratio_erap_1',\n",
    "       'plc_hh_erap_1', 'plc_erap2_funds', 'plc_ratio_erap_2', 'plc_hh_erap_2']]"
   ]
  },
  {
   "cell_type": "code",
   "execution_count": 1082,
   "id": "1a6ce306",
   "metadata": {},
   "outputs": [],
   "source": [
    "#place.to_csv(\"processed_data/NE_Places_final_1_27_22.csv\")"
   ]
  },
  {
   "cell_type": "code",
   "execution_count": 1083,
   "id": "9652516e",
   "metadata": {},
   "outputs": [
    {
     "data": {
      "text/plain": [
       "(1537, 46)"
      ]
     },
     "execution_count": 1083,
     "metadata": {},
     "output_type": "execute_result"
    }
   ],
   "source": [
    "place.shape"
   ]
  },
  {
   "cell_type": "code",
   "execution_count": 1084,
   "id": "74b77314",
   "metadata": {},
   "outputs": [
    {
     "data": {
      "text/plain": [
       "county_fips                                         inf\n",
       "fips_countysub                                      inf\n",
       "plc_pop                                         9618.28\n",
       "plc_households                                  3739.41\n",
       "plc_owners                                      2441.11\n",
       "plc_renters                                     1298.30\n",
       "plc_white                                       7214.45\n",
       "plc_black                                        605.90\n",
       "plc_amin                                          19.67\n",
       "plc_asian                                        459.64\n",
       "plc_nhpil                                          3.01\n",
       "plc_hispanic                                    1061.29\n",
       "plc_other                                        202.76\n",
       "plc_povpop                                      9302.47\n",
       "plc_belowpov                                     954.40\n",
       "plc_pov                                            0.09\n",
       "plc_med_income                                 73206.93\n",
       "plc_med_rent                                    1046.89\n",
       "plc_renter_child_households                      345.92\n",
       "plc_renter_child_single_parent_households        297.81\n",
       "plc_sub50_ami                                   1240.71\n",
       "plc_sub50_ami_renter                             725.78\n",
       "50%AMI_Threshold                               42409.14\n",
       "plc_CDBG20                                   1528472.70\n",
       "plc_HOME20                                    466936.55\n",
       "plc_ESG20                                      81446.66\n",
       "plc_CDBG_CV1                                  899142.42\n",
       "plc_CDBG_CV2                                       0.00\n",
       "plc_CDBG_CV3                                       0.00\n",
       "plc_ESG_CV1                                   280850.53\n",
       "plc_ESG_CV2                                   760480.26\n",
       "plc_CDBG19                                   1555563.17\n",
       "plc_HOME19                                    435100.25\n",
       "plc_ESG19                                      84287.63\n",
       "plc_HOPWA19                                   143410.06\n",
       "plc_HTF19                                          0.00\n",
       "plc_erap1_funds                             16052018.00\n",
       "plc_ratio_erap_1                                   0.86\n",
       "plc_hh_erap_1                                   3613.00\n",
       "plc_erap2_funds                                    0.00\n",
       "plc_ratio_erap_2                                   0.00\n",
       "plc_hh_erap_2                                      0.00\n",
       "dtype: float64"
      ]
     },
     "execution_count": 1084,
     "metadata": {},
     "output_type": "execute_result"
    }
   ],
   "source": [
    "#50%AMI_Threshold                                3\n",
    "place.mean()"
   ]
  }
 ],
 "metadata": {
  "kernelspec": {
   "display_name": "Python 3",
   "language": "python",
   "name": "python3"
  },
  "language_info": {
   "codemirror_mode": {
    "name": "ipython",
    "version": 3
   },
   "file_extension": ".py",
   "mimetype": "text/x-python",
   "name": "python",
   "nbconvert_exporter": "python",
   "pygments_lexer": "ipython3",
   "version": "3.9.9"
  }
 },
 "nbformat": 4,
 "nbformat_minor": 5
}
