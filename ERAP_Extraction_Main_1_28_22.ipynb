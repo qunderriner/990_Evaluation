{
 "cells": [
  {
   "cell_type": "code",
   "execution_count": 1,
   "id": "e5950fc1",
   "metadata": {},
   "outputs": [],
   "source": [
    "import pandas as pd\n",
    "import numpy as np \n",
    "import altair as alt\n",
    "import os\n",
    "import pdfplumber\n",
    "import requests\n",
    "import glob\n",
    "import re"
   ]
  },
  {
   "cell_type": "markdown",
   "id": "3e1a232f",
   "metadata": {},
   "source": [
    "### New York"
   ]
  },
  {
   "cell_type": "code",
   "execution_count": 2,
   "id": "53c8bd3f",
   "metadata": {},
   "outputs": [],
   "source": [
    "pdf = pdfplumber.open(\"NYC-01-18-22.pdf\")\n",
    "page1 = pdf.pages[0].extract_text()\n",
    "#string = pdf.pages[1].extract_tables()\n",
    "page1 = page1.replace(u'\\xa0', u'')\n",
    "page1 = page1.split(\"\\n\")[6:]\n",
    "\n",
    "page2 = pdf.pages[1].extract_text()\n",
    "#string = pdf.pages[1].extract_tables()\n",
    "page2 = page2.replace(u'\\xa0', u'')\n",
    "page2 = page2.split(\"\\n\")[6:]\n",
    "\n",
    "nyc = page1 + page2"
   ]
  },
  {
   "cell_type": "code",
   "execution_count": 3,
   "id": "53a7e02f",
   "metadata": {},
   "outputs": [],
   "source": [
    "col_names = [\"County\",\"Number of Payments\",\"Total Amount of Payments\",\"Average Payment Amount\"]\n",
    "nyc_final_df = pd.DataFrame(columns=col_names)\n",
    "for i in nyc:\n",
    "    county=i.split(\" \")[0]\n",
    "    total_payments = (i.split()[-5]).strip()\n",
    "    total_payments_amount = (i.split(\"$\")[-2]).strip()\n",
    "    total_payments_average_amount = (i.split(\"$\")[-1]).strip()\n",
    "    d = {\"County\": county, \"Number of Payments\": total_payments,\n",
    "     \"Total Amount of Payments\": total_payments_amount,\"Average Payment Amount\": total_payments_average_amount}\n",
    "    temp_df = pd.DataFrame(data=d, index=[0])\n",
    "    nyc_final_df = nyc_final_df.append(temp_df, ignore_index=True)"
   ]
  },
  {
   "cell_type": "code",
   "execution_count": 5,
   "id": "fbe14776",
   "metadata": {},
   "outputs": [],
   "source": [
    "nyc_final_df.at[30,\"Number of Payments\"] = 1050\n",
    "nyc_final_df.at[29,\"County\"] = \"New York\"\n",
    "nyc_final_df.at[40,\"County\"] = \"Saint Lawrence\"\n",
    "nyc_final_df[\"State\"] = \"New York\"\n",
    "nyc_final_df = nyc_final_df[:-2]"
   ]
  },
  {
   "cell_type": "code",
   "execution_count": 14,
   "id": "a1156f0c",
   "metadata": {},
   "outputs": [
    {
     "name": "stderr",
     "output_type": "stream",
     "text": [
      "<ipython-input-14-e01f7f63f642>:2: SettingWithCopyWarning: \n",
      "A value is trying to be set on a copy of a slice from a DataFrame.\n",
      "Try using .loc[row_indexer,col_indexer] = value instead\n",
      "\n",
      "See the caveats in the documentation: https://pandas.pydata.org/pandas-docs/stable/user_guide/indexing.html#returning-a-view-versus-a-copy\n",
      "  nyc_final_df[i] = nyc_final_df[i].replace({',':\"\",\" \":\"\"}, regex=True)\n",
      "<ipython-input-14-e01f7f63f642>:3: SettingWithCopyWarning: \n",
      "A value is trying to be set on a copy of a slice from a DataFrame.\n",
      "Try using .loc[row_indexer,col_indexer] = value instead\n",
      "\n",
      "See the caveats in the documentation: https://pandas.pydata.org/pandas-docs/stable/user_guide/indexing.html#returning-a-view-versus-a-copy\n",
      "  nyc_final_df[i] = nyc_final_df[i].astype(float)\n"
     ]
    }
   ],
   "source": [
    "for i in ['Number of Payments', 'Total Amount of Payments','Average Payment Amount']:\n",
    "    nyc_final_df[i] = nyc_final_df[i].replace({',':\"\",\" \":\"\"}, regex=True)\n",
    "    nyc_final_df[i] = nyc_final_df[i].astype(float)"
   ]
  },
  {
   "cell_type": "markdown",
   "id": "e78f580e",
   "metadata": {},
   "source": [
    "### missouri "
   ]
  },
  {
   "cell_type": "code",
   "execution_count": 56,
   "id": "3f30d02e",
   "metadata": {},
   "outputs": [],
   "source": [
    "missouri = pd.read_csv(\"Missouri_ERAP_1_28_21.csv\")\n",
    "missouri = missouri.drop(columns=[\"Latitude (generated)\",\"Longitude (generated)\"])\n",
    "missouri.rename(columns={\"County \":\"County\",\"Number of Households\":\"Number of Payments\",\"Award Amount\":\"Total Amount of Payments\"},inplace=True)\n",
    "missouri = missouri.replace(',','', regex=True)\n",
    "missouri = missouri.replace('\\$','', regex=True)\n",
    "missouri[\"Total Amount of Payments\"]= missouri[\"Total Amount of Payments\"].str[:-3]\n",
    "missouri[\"Number of Payments\"] = missouri[\"Number of Payments\"].astype(int)\n",
    "missouri[\"Total Amount of Payments\"] = missouri[\"Total Amount of Payments\"].astype(int)\n",
    "missouri[\"Average Payment Amount\"] = round(missouri[\"Total Amount of Payments\"] / missouri[\"Number of Payments\"],2)\n",
    "missouri[\"Average Payment Amount\"] = round(missouri[\"Total Amount of Payments\"] / missouri[\"Number of Payments\"],2)\n",
    "missouri[\"State\"] = \"Missouri\"\n",
    "missouri= missouri.fillna(0)"
   ]
  },
  {
   "cell_type": "markdown",
   "id": "27878710",
   "metadata": {},
   "source": [
    "### wyoming "
   ]
  },
  {
   "cell_type": "code",
   "execution_count": 58,
   "id": "61e05647",
   "metadata": {},
   "outputs": [],
   "source": [
    "wy = pd.read_csv(\"wyoming_ERAP.csv\")\n",
    "wy = wy.replace(',','', regex=True)\n",
    "wy = wy.replace('\\$','', regex=True)\n",
    "wy[\"$ Paid\"]= wy[\"$ Paid\"].str[:-3]\n",
    "wy.rename(columns={\"# Of Apps Paid\":\"Number of Payments\",\"$ Paid\":\"Total Amount of Payments\",\n",
    "                  \"Applications submitted\":\"Total Applications Submitted\"},inplace=True)\n",
    "wy[\"State\"] = \"Wyoming\"\n",
    "wy[\"Average Payment Amount\"] = round( wy[\"Total Amount of Payments\"].astype(int)/wy[\"Number of Payments\"],2)\n",
    "wy.drop(columns=[\"Latitude (generated)\",\"Longitude (generated)\"],inplace=True)"
   ]
  },
  {
   "cell_type": "markdown",
   "id": "40c4e03b",
   "metadata": {},
   "source": [
    "## indiana "
   ]
  },
  {
   "cell_type": "code",
   "execution_count": 15,
   "id": "b83fa33f",
   "metadata": {},
   "outputs": [],
   "source": [
    "pdf_indiana = pdfplumber.open(\"indiana_2.pdf\")\n",
    "page1_indy = pdf_indiana.pages[0].extract_text()\n",
    "page1_indy = page1_indy.split(\"\\n\")[7:]\n",
    "page2_indy = pdf_indiana.pages[1].extract_text()\n",
    "page2_indy = page2_indy.split(\"\\n\")[:-4]\n",
    "indy = page1_indy + page2_indy\n",
    "indy = pd.DataFrame(indy)"
   ]
  },
  {
   "cell_type": "code",
   "execution_count": 13,
   "id": "dd27110e",
   "metadata": {},
   "outputs": [],
   "source": [
    "indy[\"County\"]=indy[0].str.split(\" \").str[0]\n",
    "indy[\"Number of Payments\"] = indy[0].str.split(\" \").str[1]\n",
    "indy[\"Applications in Process\"] = indy[0].str.split(\" \").str[5]\n",
    "indy[\"Total of Rental Assistance Issued\"] = indy[0].str.split(\" \").str[2]\n",
    "indy[\"Total of Utility Assistance Issued\"] = indy[0].str.split(\" \").str[3]\n",
    "indy[\"Total Assistance Paid and Obligated\"] = indy[0].str.split(\" \").str[4]\n",
    "indy.drop(columns=[0],inplace=True,errors='ignore')\n",
    "indy = indy.replace(',','', regex=True)\n",
    "indy[\"Number of Payments\"] = indy[\"Number of Payments\"].astype(int)\n",
    "indy[\"State\"] = \"Indiana\"\n",
    "indy[\"Total of Utility Assistance Issued\"] = indy[\"Total of Utility Assistance Issued\"].str[:-3]\n",
    "indy[\"Total of Utility Assistance Issued\"] = indy[\"Total of Utility Assistance Issued\"].astype(int)\n",
    "indy[\"Total of Rental Assistance Issued\"] = indy[\"Total of Rental Assistance Issued\"].str[:-3]\n",
    "indy[\"Total of Rental Assistance Issued\"] = indy[\"Total of Rental Assistance Issued\"].astype(int)\n",
    "indy[\"Total Amount of Payments\"] = round(indy[\"Total of Utility Assistance Issued\"] + indy[\"Total of Rental Assistance Issued\"])\n",
    "indy[\"Average Payment Amount\"] = round(indy[\"Total Amount of Payments\"] / indy[\"Number of Payments\"],2)"
   ]
  },
  {
   "cell_type": "markdown",
   "id": "36ccdd19",
   "metadata": {},
   "source": [
    "## lousiana "
   ]
  },
  {
   "cell_type": "code",
   "execution_count": 151,
   "id": "b35f7856",
   "metadata": {},
   "outputs": [
    {
     "name": "stdout",
     "output_type": "stream",
     "text": [
      "/Users/underriner/Desktop/work/clean_ERAP_work/ERAP_State_Extraction/LA_november.pdf\n",
      "/Users/underriner/Desktop/work/clean_ERAP_work/ERAP_State_Extraction/LA_December.pdf\n",
      "/Users/underriner/Desktop/work/clean_ERAP_work/ERAP_State_Extraction/LA_September.pdf\n",
      "/Users/underriner/Desktop/work/clean_ERAP_work/ERAP_State_Extraction/LA_May.pdf\n",
      "/Users/underriner/Desktop/work/clean_ERAP_work/ERAP_State_Extraction/LA_April.pdf\n",
      "only one page\n",
      "/Users/underriner/Desktop/work/clean_ERAP_work/ERAP_State_Extraction/LA_October.pdf\n",
      "/Users/underriner/Desktop/work/clean_ERAP_work/ERAP_State_Extraction/LA_June.pdf\n",
      "/Users/underriner/Desktop/work/clean_ERAP_work/ERAP_State_Extraction/LA_July.pdf\n"
     ]
    }
   ],
   "source": [
    "all_files = glob.glob(os.getcwd() + \"/LA*\")\n",
    "column_names = ['County', 'Number of Payments', 'Total Amount of Payments', 'State',\n",
    "       'Average Payment Amount']\n",
    "LA_full = pd.DataFrame(columns = column_names)\n",
    "for i in all_files:\n",
    "    print(i)\n",
    "    pdf_LA = pdfplumber.open(i)\n",
    "    page1_LA = pdf_LA.pages[0].extract_text()\n",
    "    page1_LA = page1_LA.split(\"\\n\")[7:]\n",
    "    try: \n",
    "        page2_LA = pdf_LA.pages[1].extract_text()\n",
    "        page2_LA = page2_LA.split(\"\\n\")[:-1]\n",
    "    except:\n",
    "        print(\"only one page\")\n",
    "        page2_LA = None\n",
    "    if page2_LA:\n",
    "        LA = page1_LA + page2_LA\n",
    "        LA = pd.DataFrame(LA)\n",
    "    else:\n",
    "        LA = pd.DataFrame(page1_LA)\n",
    "    LA[0] = LA[0].replace({'\\$': '', ',': '','\\.':\"\"}, regex=True)\n",
    "    LA[\"County\"]=LA[0].str.split(\"Parish\").str[0]\n",
    "    LA[\"Number of Payments\"] = LA[0].str.split(\"Parish\").str[1]\n",
    "    LA[\"Total Amount of Payments\"] = LA[\"Number of Payments\"].str.split(\" \").str[2]\n",
    "    LA.dropna(inplace=True)\n",
    "    LA[\"Number of Payments\"] = LA[\"Number of Payments\"].str.split(\" \").str[1]\n",
    "    LA = LA.replace(',','', regex=True)\n",
    "    LA[\"Number of Payments\"] = LA[\"Number of Payments\"].astype(int)\n",
    "    LA[\"State\"] = \"Louisiana\"\n",
    "    LA[\"Average Payment Amount\"] = round(LA[\"Total Amount of Payments\"].astype(int) / LA[\"Number of Payments\"].astype(int),2)\n",
    "    LA.drop(columns=[0],inplace=True)\n",
    "    LA_full = pd.concat([LA_full,LA])\n",
    "for i in ['Number of Payments', 'Total Amount of Payments','Average Payment Amount']:\n",
    "    LA_full[i] = LA_full[i].astype(int)\n",
    "LA_full = LA_full.groupby(\"County\").sum().reset_index()\n",
    "LA_full[\"County\"] = LA_full[\"County\"] + \"Parish\"\n",
    "LA_full[\"County\"] = LA_full[\"County\"].str.replace(\"St\",\"St.\")"
   ]
  },
  {
   "cell_type": "markdown",
   "id": "bdf94868",
   "metadata": {},
   "source": [
    "## New Hampshire"
   ]
  },
  {
   "cell_type": "code",
   "execution_count": 20,
   "id": "0ff6dc82",
   "metadata": {},
   "outputs": [],
   "source": [
    "nh = pd.read_csv(\"New_Hampshire_ERAP.csv\")\n",
    "nh.rename(columns={\"County1\":\"County\",\"Average Amount Per Household\":\"Average Payment Amount\",\n",
    "         \"Amount\":\"Total Amount of Payments\"},inplace=True)\n",
    "nh.drop(columns=[\"Latitude (generated)\",\"Longitude (generated)\"],inplace=True)\n",
    "nh[\"State\"] = \"New Hampshire\"\n",
    "nh[\"Number of Payments\"] = nh[\"Total Amount of Payments\"]/nh[\"Average Payment Amount\"]"
   ]
  },
  {
   "cell_type": "markdown",
   "id": "8ac34c86",
   "metadata": {},
   "source": [
    "## Kansas "
   ]
  },
  {
   "cell_type": "code",
   "execution_count": 25,
   "id": "0827966c",
   "metadata": {},
   "outputs": [],
   "source": [
    "pdf_kansas = pdfplumber.open(\"kansas_erap.pdf\")\n",
    "page1_kansas = pdf_kansas.pages[0].extract_text()\n",
    "page1_kansas = page1_kansas.split(\"\\n\")[7:]\n",
    "\n",
    "page2_kansas = pdf_kansas.pages[1].extract_text()\n",
    "page2_kansas = page2_kansas.split(\"\\n\")[2:]\n",
    "\n",
    "page3_kansas = pdf_kansas.pages[2].extract_text()\n",
    "page3_kansas= page3_kansas.split(\"\\n\")[2:]\n",
    "kansas = page1_kansas + page2_kansas + page3_kansas\n",
    "\n",
    "kansas.remove('3')\n",
    "kansas.remove('1')\n",
    "kansas.remove('2')"
   ]
  },
  {
   "cell_type": "code",
   "execution_count": 26,
   "id": "1c20ec4b",
   "metadata": {},
   "outputs": [],
   "source": [
    "kansas_final = pd.DataFrame(kansas)\n",
    "kansas_final[\"County\"]=kansas_final[0].str.split(\" \").str[0]\n",
    "kansas_final[\"Applications in Process\"] = kansas_final[0].str.split(\" \").str[1]\n",
    "kansas_final[\"Number of Payments\"] = kansas_final[0].str.split(\" \").str[2]\n",
    "kansas_final[\"Total Amount of Payments\"] = kansas_final[0].str.split(\" \").str[3]\n",
    "kansas_final.drop(columns=[0],inplace=True)\n",
    "kansas_final = kansas_final.replace(',','', regex=True)\n",
    "kansas_final = kansas_final.replace('\\$','', regex=True)\n",
    "kansas_final[\"Total Amount of Payments\"] = kansas_final[\"Total Amount of Payments\"].str[:-3]\n",
    "kansas_final[\"Number of Payments\"] = kansas_final[\"Number of Payments\"].astype(int)\n",
    "kansas_final[\"Total Amount of Payments\"] = kansas_final[\"Total Amount of Payments\"].astype(int)\n",
    "kansas_final[\"Average Payment Amount\"] = round(kansas_final[\"Total Amount of Payments\"]/kansas_final[\"Number of Payments\"],2)\n",
    "kansas_final[\"State\"] = \"Kansas\""
   ]
  },
  {
   "cell_type": "markdown",
   "id": "7888dd29",
   "metadata": {},
   "source": [
    "### Minnesota"
   ]
  },
  {
   "cell_type": "code",
   "execution_count": 29,
   "id": "3438bfd6",
   "metadata": {},
   "outputs": [
    {
     "name": "stderr",
     "output_type": "stream",
     "text": [
      "<ipython-input-29-108d0fe5734d>:8: FutureWarning: The default value of regex will change from True to False in a future version. In addition, single character regular expressions will*not* be treated as literal strings when regex=True.\n",
      "  minn[\"Total Funds Requested\"]= minn[\"Total Funds Requested\"].str.replace(\"$\",\"\")\n"
     ]
    }
   ],
   "source": [
    "minn = pd.read_csv(\"PUBLIC_RentHelpMN Tableau Data Doc (12.30.21 Data).csv\")\n",
    "minn = minn.rename(columns={\"Apps By County\":\"Total Applications Received\",\n",
    "                    \" totalRequest_sum \":\"Total Funds Requested\",\n",
    "                    \"Paid?\":\"Househols Served\",\n",
    "                    \"Apps/Thousand Renters Under $35k\":\"apps_per_1k_renters_under_35k\"})\n",
    "minn[\"apps_under_50%_ami\"] = minn[\"ami_status_L30%\"] + minn[\"ami_status_L50%\"]\n",
    "minn = minn[[\"county_name\",\"Total Applications Received\",\"Total Funds Requested\",\"Househols Served\",\"apps_per_1k_renters_under_35k\",\"apps_under_50%_ami\"]]\n",
    "minn[\"Total Funds Requested\"]= minn[\"Total Funds Requested\"].str.replace(\"$\",\"\")\n",
    "minn[\"Total Funds Requested\"] = minn[\"Total Funds Requested\"].str.replace(\",\",\"\")\n",
    "minn[\"Total Funds Requested\"] = minn[\"Total Funds Requested\"].astype(float)\n",
    "minn[\"State\"] = \"Minnesota\"\n",
    "minn.rename(columns={\"county_name\":\"County\",\n",
    "                    \"Househols Served\":\"Number of Payments\"},inplace=True)"
   ]
  },
  {
   "cell_type": "markdown",
   "id": "79b9544e",
   "metadata": {},
   "source": [
    "### Arizona"
   ]
  },
  {
   "cell_type": "code",
   "execution_count": 50,
   "id": "93d479f9",
   "metadata": {},
   "outputs": [],
   "source": [
    "#from https://des.az.gov/erap-dashboard\n",
    "arizona = pd.read_csv(\"Arizona_ERAP.csv\")\n",
    "arizona.rename(columns={\"Approved Applications\":\"Number of Payments\",\n",
    "                    \"Total Assistance\":\"Total Amount of Payments\"},inplace=True)\n",
    "arizona = arizona[[\"County\",\"Number of Payments\",\"Total Amount of Payments\"]]\n",
    "arizona[\"State\"] = \"Arizona\"\n",
    "\n",
    "for i in ['Number of Payments', 'Total Amount of Payments']:\n",
    "    arizona[i] = arizona[i].replace({',':\"\",\" \":\"\",\"\\$\":\"\"}, regex=True)\n",
    "    arizona[i] = arizona[i].astype(float)\n",
    "                                  \n",
    "arizona[\"Average Payment Amount\"] = round(arizona[\"Total Amount of Payments\"]/arizona[\"Number of Payments\"],2)\n",
    "arizona = arizona[arizona.County != \"Total\"]"
   ]
  },
  {
   "cell_type": "markdown",
   "id": "92f050f1",
   "metadata": {},
   "source": [
    "# California"
   ]
  },
  {
   "cell_type": "code",
   "execution_count": 21,
   "id": "7eb74ce4",
   "metadata": {},
   "outputs": [],
   "source": [
    "cali = pd.read_csv(\"California_erap.csv\")"
   ]
  },
  {
   "cell_type": "code",
   "execution_count": 22,
   "id": "13a39534",
   "metadata": {},
   "outputs": [],
   "source": [
    "cali[\"State\"] = \"California\"\n",
    "cali.rename(columns={\"Counties\":\"County\",\n",
    "                    \"Househols Served\":\"Number of Payments\",\n",
    "                    \"Total Funds Paid\":\"Total Amount of Payments\"},inplace=True)\n",
    "\n",
    "cali[\"Average Payment Amount\"] = cali[\"Total Amount of Payments\"]/cali[\"Number of Payments\"]\n",
    "\n",
    "cali = cali[[\"County\",\"State\",\n",
    "            \"Number of Payments\",\"Total Amount of Payments\",\n",
    "            \"Average Payment Amount\"]]"
   ]
  },
  {
   "cell_type": "markdown",
   "id": "68f369ef",
   "metadata": {},
   "source": [
    "# Texas"
   ]
  },
  {
   "cell_type": "code",
   "execution_count": 23,
   "id": "b9cee147",
   "metadata": {},
   "outputs": [],
   "source": [
    "texas = pd.read_csv(\"texas_ERAP.csv\")"
   ]
  },
  {
   "cell_type": "code",
   "execution_count": 24,
   "id": "7ee856bd",
   "metadata": {
    "scrolled": true
   },
   "outputs": [],
   "source": [
    "texas[\"State\"] = \"Texas\"\n",
    "texas.rename(columns={\"Counties\":\"County\",\n",
    "                    \"Households Assisted \":\"Number of Payments\",\n",
    "                    \"Assistance Received\":\"Total Amount of Payments\"},inplace=True)\n",
    "texas[\"Average Payment Amount\"] = texas[\"Total Amount of Payments\"]/texas[\"Number of Payments\"]\n",
    "texas = texas[[\"County\",\"State\",\n",
    "            \"Number of Payments\",\"Total Amount of Payments\",\n",
    "            \"Average Payment Amount\"]]"
   ]
  },
  {
   "cell_type": "markdown",
   "id": "e77af2c1",
   "metadata": {},
   "source": [
    "# Nebraska "
   ]
  },
  {
   "cell_type": "code",
   "execution_count": 64,
   "id": "ecea81f6",
   "metadata": {},
   "outputs": [],
   "source": [
    "nebraska = pd.read_csv(\"Nebraska_ERAP.csv\")\n",
    "nebraska.drop(columns=[\"County\"],inplace=True)\n",
    "nebraska[\"County\"] = nebraska[\"Cnty Name\"] + \" County\"\n",
    "nebraska[\"State\"] = \"Nebraska\"\n",
    "nebraska.rename(columns={\"Count of Application ID\":\"Number of Payments\",\n",
    "                    \"Disbursed Amount\":\"Total Amount of Payments\"},inplace=True)\n",
    "nebraska[\"Average Payment Amount\"] = round(nebraska[\"Total Amount of Payments\"]/nebraska[\"Number of Payments\"],2)\n",
    "nebraska = nebraska[[\"County\",\"State\",\n",
    "            \"Number of Payments\",\"Total Amount of Payments\",\n",
    "            \"Average Payment Amount\"]]"
   ]
  },
  {
   "cell_type": "markdown",
   "id": "4d15c1f8",
   "metadata": {},
   "source": [
    "### Rhode Island "
   ]
  },
  {
   "cell_type": "code",
   "execution_count": 67,
   "id": "0d467f21",
   "metadata": {},
   "outputs": [
    {
     "data": {
      "text/html": [
       "<div>\n",
       "<style scoped>\n",
       "    .dataframe tbody tr th:only-of-type {\n",
       "        vertical-align: middle;\n",
       "    }\n",
       "\n",
       "    .dataframe tbody tr th {\n",
       "        vertical-align: top;\n",
       "    }\n",
       "\n",
       "    .dataframe thead th {\n",
       "        text-align: right;\n",
       "    }\n",
       "</style>\n",
       "<table border=\"1\" class=\"dataframe\">\n",
       "  <thead>\n",
       "    <tr style=\"text-align: right;\">\n",
       "      <th></th>\n",
       "      <th>Muni</th>\n",
       "      <th>Number of Payments</th>\n",
       "      <th>Total Amount of Payments</th>\n",
       "      <th>State</th>\n",
       "      <th>Average Payment Amount</th>\n",
       "    </tr>\n",
       "  </thead>\n",
       "  <tbody>\n",
       "    <tr>\n",
       "      <th>0</th>\n",
       "      <td>Barrington</td>\n",
       "      <td>47</td>\n",
       "      <td>345005</td>\n",
       "      <td>Rhode Island</td>\n",
       "      <td>7340.531915</td>\n",
       "    </tr>\n",
       "    <tr>\n",
       "      <th>1</th>\n",
       "      <td>Bristol</td>\n",
       "      <td>98</td>\n",
       "      <td>644025</td>\n",
       "      <td>Rhode Island</td>\n",
       "      <td>6571.683673</td>\n",
       "    </tr>\n",
       "    <tr>\n",
       "      <th>2</th>\n",
       "      <td>Burrillville</td>\n",
       "      <td>109</td>\n",
       "      <td>684176</td>\n",
       "      <td>Rhode Island</td>\n",
       "      <td>6276.844037</td>\n",
       "    </tr>\n",
       "    <tr>\n",
       "      <th>3</th>\n",
       "      <td>Central Falls</td>\n",
       "      <td>609</td>\n",
       "      <td>3812859</td>\n",
       "      <td>Rhode Island</td>\n",
       "      <td>6260.852217</td>\n",
       "    </tr>\n",
       "    <tr>\n",
       "      <th>4</th>\n",
       "      <td>Charlestown</td>\n",
       "      <td>28</td>\n",
       "      <td>163628</td>\n",
       "      <td>Rhode Island</td>\n",
       "      <td>5843.857143</td>\n",
       "    </tr>\n",
       "    <tr>\n",
       "      <th>5</th>\n",
       "      <td>Coventry</td>\n",
       "      <td>168</td>\n",
       "      <td>1164730</td>\n",
       "      <td>Rhode Island</td>\n",
       "      <td>6932.916667</td>\n",
       "    </tr>\n",
       "    <tr>\n",
       "      <th>6</th>\n",
       "      <td>Cranston</td>\n",
       "      <td>874</td>\n",
       "      <td>6160398</td>\n",
       "      <td>Rhode Island</td>\n",
       "      <td>7048.510297</td>\n",
       "    </tr>\n",
       "    <tr>\n",
       "      <th>7</th>\n",
       "      <td>Cumberland</td>\n",
       "      <td>181</td>\n",
       "      <td>1056697</td>\n",
       "      <td>Rhode Island</td>\n",
       "      <td>5838.104972</td>\n",
       "    </tr>\n",
       "    <tr>\n",
       "      <th>8</th>\n",
       "      <td>East Greenwich</td>\n",
       "      <td>48</td>\n",
       "      <td>367142</td>\n",
       "      <td>Rhode Island</td>\n",
       "      <td>7648.791667</td>\n",
       "    </tr>\n",
       "    <tr>\n",
       "      <th>9</th>\n",
       "      <td>East Providence</td>\n",
       "      <td>472</td>\n",
       "      <td>3311400</td>\n",
       "      <td>Rhode Island</td>\n",
       "      <td>7015.677966</td>\n",
       "    </tr>\n",
       "    <tr>\n",
       "      <th>10</th>\n",
       "      <td>Exeter</td>\n",
       "      <td>21</td>\n",
       "      <td>140955</td>\n",
       "      <td>Rhode Island</td>\n",
       "      <td>6712.142857</td>\n",
       "    </tr>\n",
       "    <tr>\n",
       "      <th>11</th>\n",
       "      <td>Foster</td>\n",
       "      <td>7</td>\n",
       "      <td>40267</td>\n",
       "      <td>Rhode Island</td>\n",
       "      <td>5752.428571</td>\n",
       "    </tr>\n",
       "    <tr>\n",
       "      <th>12</th>\n",
       "      <td>Glocester</td>\n",
       "      <td>13</td>\n",
       "      <td>85050</td>\n",
       "      <td>Rhode Island</td>\n",
       "      <td>6542.307692</td>\n",
       "    </tr>\n",
       "    <tr>\n",
       "      <th>13</th>\n",
       "      <td>Harmony</td>\n",
       "      <td>1</td>\n",
       "      <td>3700</td>\n",
       "      <td>Rhode Island</td>\n",
       "      <td>3700.000000</td>\n",
       "    </tr>\n",
       "    <tr>\n",
       "      <th>14</th>\n",
       "      <td>Hopkinton</td>\n",
       "      <td>30</td>\n",
       "      <td>185625</td>\n",
       "      <td>Rhode Island</td>\n",
       "      <td>6187.500000</td>\n",
       "    </tr>\n",
       "    <tr>\n",
       "      <th>15</th>\n",
       "      <td>Jamestown</td>\n",
       "      <td>4</td>\n",
       "      <td>12595</td>\n",
       "      <td>Rhode Island</td>\n",
       "      <td>3148.750000</td>\n",
       "    </tr>\n",
       "    <tr>\n",
       "      <th>16</th>\n",
       "      <td>Johnston</td>\n",
       "      <td>288</td>\n",
       "      <td>1955165</td>\n",
       "      <td>Rhode Island</td>\n",
       "      <td>6788.767361</td>\n",
       "    </tr>\n",
       "    <tr>\n",
       "      <th>17</th>\n",
       "      <td>Lincoln</td>\n",
       "      <td>179</td>\n",
       "      <td>1082993</td>\n",
       "      <td>Rhode Island</td>\n",
       "      <td>6050.240223</td>\n",
       "    </tr>\n",
       "    <tr>\n",
       "      <th>18</th>\n",
       "      <td>Little Compton</td>\n",
       "      <td>4</td>\n",
       "      <td>3048</td>\n",
       "      <td>Rhode Island</td>\n",
       "      <td>762.000000</td>\n",
       "    </tr>\n",
       "    <tr>\n",
       "      <th>19</th>\n",
       "      <td>Middletown</td>\n",
       "      <td>7</td>\n",
       "      <td>466097</td>\n",
       "      <td>Rhode Island</td>\n",
       "      <td>66585.285714</td>\n",
       "    </tr>\n",
       "    <tr>\n",
       "      <th>20</th>\n",
       "      <td>Narragansett</td>\n",
       "      <td>41</td>\n",
       "      <td>202462</td>\n",
       "      <td>Rhode Island</td>\n",
       "      <td>4938.097561</td>\n",
       "    </tr>\n",
       "    <tr>\n",
       "      <th>21</th>\n",
       "      <td>New Shoreham</td>\n",
       "      <td>1</td>\n",
       "      <td>1013</td>\n",
       "      <td>Rhode Island</td>\n",
       "      <td>1013.000000</td>\n",
       "    </tr>\n",
       "    <tr>\n",
       "      <th>22</th>\n",
       "      <td>Newport</td>\n",
       "      <td>240</td>\n",
       "      <td>1127120</td>\n",
       "      <td>Rhode Island</td>\n",
       "      <td>4696.333333</td>\n",
       "    </tr>\n",
       "    <tr>\n",
       "      <th>23</th>\n",
       "      <td>North Kingstown</td>\n",
       "      <td>158</td>\n",
       "      <td>832127</td>\n",
       "      <td>Rhode Island</td>\n",
       "      <td>5266.626582</td>\n",
       "    </tr>\n",
       "    <tr>\n",
       "      <th>24</th>\n",
       "      <td>North Providence</td>\n",
       "      <td>579</td>\n",
       "      <td>3875371</td>\n",
       "      <td>Rhode Island</td>\n",
       "      <td>6693.214162</td>\n",
       "    </tr>\n",
       "    <tr>\n",
       "      <th>25</th>\n",
       "      <td>North Smithfield</td>\n",
       "      <td>54</td>\n",
       "      <td>388478</td>\n",
       "      <td>Rhode Island</td>\n",
       "      <td>7194.037037</td>\n",
       "    </tr>\n",
       "    <tr>\n",
       "      <th>26</th>\n",
       "      <td>Pawtucket</td>\n",
       "      <td>1691</td>\n",
       "      <td>10506452</td>\n",
       "      <td>Rhode Island</td>\n",
       "      <td>6213.159077</td>\n",
       "    </tr>\n",
       "    <tr>\n",
       "      <th>27</th>\n",
       "      <td>Portsmouth</td>\n",
       "      <td>56</td>\n",
       "      <td>328022</td>\n",
       "      <td>Rhode Island</td>\n",
       "      <td>5857.535714</td>\n",
       "    </tr>\n",
       "    <tr>\n",
       "      <th>28</th>\n",
       "      <td>Providence</td>\n",
       "      <td>5316</td>\n",
       "      <td>36028414</td>\n",
       "      <td>Rhode Island</td>\n",
       "      <td>6777.354026</td>\n",
       "    </tr>\n",
       "    <tr>\n",
       "      <th>29</th>\n",
       "      <td>Provy</td>\n",
       "      <td>1</td>\n",
       "      <td>7950</td>\n",
       "      <td>Rhode Island</td>\n",
       "      <td>7950.000000</td>\n",
       "    </tr>\n",
       "    <tr>\n",
       "      <th>30</th>\n",
       "      <td>Richmond</td>\n",
       "      <td>15</td>\n",
       "      <td>74071</td>\n",
       "      <td>Rhode Island</td>\n",
       "      <td>4938.066667</td>\n",
       "    </tr>\n",
       "    <tr>\n",
       "      <th>31</th>\n",
       "      <td>Scituate</td>\n",
       "      <td>18</td>\n",
       "      <td>163099</td>\n",
       "      <td>Rhode Island</td>\n",
       "      <td>9061.055556</td>\n",
       "    </tr>\n",
       "    <tr>\n",
       "      <th>32</th>\n",
       "      <td>Smithfield</td>\n",
       "      <td>96</td>\n",
       "      <td>594989</td>\n",
       "      <td>Rhode Island</td>\n",
       "      <td>6197.802083</td>\n",
       "    </tr>\n",
       "    <tr>\n",
       "      <th>33</th>\n",
       "      <td>South Kingstown</td>\n",
       "      <td>82</td>\n",
       "      <td>494160</td>\n",
       "      <td>Rhode Island</td>\n",
       "      <td>6026.341463</td>\n",
       "    </tr>\n",
       "    <tr>\n",
       "      <th>34</th>\n",
       "      <td>Tiverton</td>\n",
       "      <td>59</td>\n",
       "      <td>311451</td>\n",
       "      <td>Rhode Island</td>\n",
       "      <td>5278.830508</td>\n",
       "    </tr>\n",
       "    <tr>\n",
       "      <th>35</th>\n",
       "      <td>Warwick</td>\n",
       "      <td>516</td>\n",
       "      <td>3577787</td>\n",
       "      <td>Rhode Island</td>\n",
       "      <td>6933.695736</td>\n",
       "    </tr>\n",
       "    <tr>\n",
       "      <th>36</th>\n",
       "      <td>West Greenwich</td>\n",
       "      <td>11</td>\n",
       "      <td>97981</td>\n",
       "      <td>Rhode Island</td>\n",
       "      <td>8907.363636</td>\n",
       "    </tr>\n",
       "    <tr>\n",
       "      <th>37</th>\n",
       "      <td>West Warwick</td>\n",
       "      <td>547</td>\n",
       "      <td>3621689</td>\n",
       "      <td>Rhode Island</td>\n",
       "      <td>6621.003656</td>\n",
       "    </tr>\n",
       "    <tr>\n",
       "      <th>38</th>\n",
       "      <td>Westerly</td>\n",
       "      <td>136</td>\n",
       "      <td>894076</td>\n",
       "      <td>Rhode Island</td>\n",
       "      <td>6574.088235</td>\n",
       "    </tr>\n",
       "    <tr>\n",
       "      <th>39</th>\n",
       "      <td>Woonsocket</td>\n",
       "      <td>1295</td>\n",
       "      <td>7886376</td>\n",
       "      <td>Rhode Island</td>\n",
       "      <td>6089.865637</td>\n",
       "    </tr>\n",
       "    <tr>\n",
       "      <th>40</th>\n",
       "      <td>Warren</td>\n",
       "      <td>100</td>\n",
       "      <td>692066</td>\n",
       "      <td>Rhode Island</td>\n",
       "      <td>6920.660000</td>\n",
       "    </tr>\n",
       "  </tbody>\n",
       "</table>\n",
       "</div>"
      ],
      "text/plain": [
       "                Muni  Number of Payments  Total Amount of Payments  \\\n",
       "0         Barrington                  47                    345005   \n",
       "1            Bristol                  98                    644025   \n",
       "2       Burrillville                 109                    684176   \n",
       "3      Central Falls                 609                   3812859   \n",
       "4        Charlestown                  28                    163628   \n",
       "5           Coventry                 168                   1164730   \n",
       "6           Cranston                 874                   6160398   \n",
       "7         Cumberland                 181                   1056697   \n",
       "8     East Greenwich                  48                    367142   \n",
       "9    East Providence                 472                   3311400   \n",
       "10            Exeter                  21                    140955   \n",
       "11            Foster                   7                     40267   \n",
       "12         Glocester                  13                     85050   \n",
       "13           Harmony                   1                      3700   \n",
       "14         Hopkinton                  30                    185625   \n",
       "15         Jamestown                   4                     12595   \n",
       "16          Johnston                 288                   1955165   \n",
       "17           Lincoln                 179                   1082993   \n",
       "18    Little Compton                   4                      3048   \n",
       "19        Middletown                   7                    466097   \n",
       "20      Narragansett                  41                    202462   \n",
       "21      New Shoreham                   1                      1013   \n",
       "22           Newport                 240                   1127120   \n",
       "23   North Kingstown                 158                    832127   \n",
       "24  North Providence                 579                   3875371   \n",
       "25  North Smithfield                  54                    388478   \n",
       "26         Pawtucket                1691                  10506452   \n",
       "27        Portsmouth                  56                    328022   \n",
       "28        Providence                5316                  36028414   \n",
       "29             Provy                   1                      7950   \n",
       "30          Richmond                  15                     74071   \n",
       "31          Scituate                  18                    163099   \n",
       "32        Smithfield                  96                    594989   \n",
       "33   South Kingstown                  82                    494160   \n",
       "34          Tiverton                  59                    311451   \n",
       "35           Warwick                 516                   3577787   \n",
       "36    West Greenwich                  11                     97981   \n",
       "37      West Warwick                 547                   3621689   \n",
       "38          Westerly                 136                    894076   \n",
       "39        Woonsocket                1295                   7886376   \n",
       "40            Warren                 100                    692066   \n",
       "\n",
       "           State  Average Payment Amount  \n",
       "0   Rhode Island             7340.531915  \n",
       "1   Rhode Island             6571.683673  \n",
       "2   Rhode Island             6276.844037  \n",
       "3   Rhode Island             6260.852217  \n",
       "4   Rhode Island             5843.857143  \n",
       "5   Rhode Island             6932.916667  \n",
       "6   Rhode Island             7048.510297  \n",
       "7   Rhode Island             5838.104972  \n",
       "8   Rhode Island             7648.791667  \n",
       "9   Rhode Island             7015.677966  \n",
       "10  Rhode Island             6712.142857  \n",
       "11  Rhode Island             5752.428571  \n",
       "12  Rhode Island             6542.307692  \n",
       "13  Rhode Island             3700.000000  \n",
       "14  Rhode Island             6187.500000  \n",
       "15  Rhode Island             3148.750000  \n",
       "16  Rhode Island             6788.767361  \n",
       "17  Rhode Island             6050.240223  \n",
       "18  Rhode Island              762.000000  \n",
       "19  Rhode Island            66585.285714  \n",
       "20  Rhode Island             4938.097561  \n",
       "21  Rhode Island             1013.000000  \n",
       "22  Rhode Island             4696.333333  \n",
       "23  Rhode Island             5266.626582  \n",
       "24  Rhode Island             6693.214162  \n",
       "25  Rhode Island             7194.037037  \n",
       "26  Rhode Island             6213.159077  \n",
       "27  Rhode Island             5857.535714  \n",
       "28  Rhode Island             6777.354026  \n",
       "29  Rhode Island             7950.000000  \n",
       "30  Rhode Island             4938.066667  \n",
       "31  Rhode Island             9061.055556  \n",
       "32  Rhode Island             6197.802083  \n",
       "33  Rhode Island             6026.341463  \n",
       "34  Rhode Island             5278.830508  \n",
       "35  Rhode Island             6933.695736  \n",
       "36  Rhode Island             8907.363636  \n",
       "37  Rhode Island             6621.003656  \n",
       "38  Rhode Island             6574.088235  \n",
       "39  Rhode Island             6089.865637  \n",
       "40  Rhode Island             6920.660000  "
      ]
     },
     "execution_count": 67,
     "metadata": {},
     "output_type": "execute_result"
    }
   ],
   "source": [
    "ri"
   ]
  },
  {
   "cell_type": "code",
   "execution_count": 66,
   "id": "d587d815",
   "metadata": {},
   "outputs": [
    {
     "name": "stderr",
     "output_type": "stream",
     "text": [
      "<ipython-input-66-6c1564d93ed2>:2: FutureWarning: The default value of regex will change from True to False in a future version. In addition, single character regular expressions will*not* be treated as literal strings when regex=True.\n",
      "  ri[\"Total Amount of Payments\"]= ri[\"Total Amount of Payments\"].str.replace(\"$\",\"\")\n"
     ]
    }
   ],
   "source": [
    "ri = pd.read_csv(\"RI_ERAP.csv\",names=[\"Muni\",\"Number of Payments\",\"Total Amount of Payments\"])\n",
    "ri[\"Total Amount of Payments\"]= ri[\"Total Amount of Payments\"].str.replace(\"$\",\"\")\n",
    "ri[\"Total Amount of Payments\"] = ri[\"Total Amount of Payments\"].str.replace(\",\",\"\")\n",
    "ri[\"Number of Payments\"] = ri[\"Number of Payments\"].str.replace(\",\",\"\")\n",
    "ri[\"Number of Payments\"] = ri[\"Number of Payments\"].astype(int)\n",
    "ri[\"Total Amount of Payments\"] = ri[\"Total Amount of Payments\"].astype(int)\n",
    "ri = ri.groupby(\"Muni\").sum().reset_index()\n",
    "ri[\"State\"]= \"Rhode Island\"\n",
    "ri[\"Average Payment Amount\"] = ri[\"Total Amount of Payments\"]/ri[\"Number of Payments\"]\n",
    "ri.Muni = ri.Muni.str.title()\n"
   ]
  },
  {
   "cell_type": "code",
   "execution_count": 29,
   "id": "679d2303",
   "metadata": {
    "scrolled": true
   },
   "outputs": [],
   "source": [
    "ri[\"cousubnm14\"] = ri[\"Muni\"] + \" town\""
   ]
  },
  {
   "cell_type": "code",
   "execution_count": 30,
   "id": "de62d3e6",
   "metadata": {},
   "outputs": [],
   "source": [
    "crosswalk = pd.read_csv(\"Rhode_island_County_muni_Crosswalk.csv\")"
   ]
  },
  {
   "cell_type": "code",
   "execution_count": 31,
   "id": "ebce04e3",
   "metadata": {},
   "outputs": [],
   "source": [
    "crosswalk = crosswalk[[\"cntyname2\",\"cousubnm14\"]]"
   ]
  },
  {
   "cell_type": "code",
   "execution_count": 32,
   "id": "98729391",
   "metadata": {},
   "outputs": [
    {
     "data": {
      "text/html": [
       "<div>\n",
       "<style scoped>\n",
       "    .dataframe tbody tr th:only-of-type {\n",
       "        vertical-align: middle;\n",
       "    }\n",
       "\n",
       "    .dataframe tbody tr th {\n",
       "        vertical-align: top;\n",
       "    }\n",
       "\n",
       "    .dataframe thead th {\n",
       "        text-align: right;\n",
       "    }\n",
       "</style>\n",
       "<table border=\"1\" class=\"dataframe\">\n",
       "  <thead>\n",
       "    <tr style=\"text-align: right;\">\n",
       "      <th></th>\n",
       "      <th>cntyname2</th>\n",
       "      <th>cousubnm14</th>\n",
       "    </tr>\n",
       "  </thead>\n",
       "  <tbody>\n",
       "    <tr>\n",
       "      <th>0</th>\n",
       "      <td>2014 county name</td>\n",
       "      <td>County subdivision name 2014</td>\n",
       "    </tr>\n",
       "    <tr>\n",
       "      <th>1</th>\n",
       "      <td>Bristol RI</td>\n",
       "      <td>Barrington town</td>\n",
       "    </tr>\n",
       "    <tr>\n",
       "      <th>2</th>\n",
       "      <td>Bristol RI</td>\n",
       "      <td>Bristol town</td>\n",
       "    </tr>\n",
       "  </tbody>\n",
       "</table>\n",
       "</div>"
      ],
      "text/plain": [
       "          cntyname2                    cousubnm14\n",
       "0  2014 county name  County subdivision name 2014\n",
       "1        Bristol RI               Barrington town\n",
       "2        Bristol RI                  Bristol town"
      ]
     },
     "execution_count": 32,
     "metadata": {},
     "output_type": "execute_result"
    }
   ],
   "source": [
    "crosswalk.head(3)"
   ]
  },
  {
   "cell_type": "code",
   "execution_count": 33,
   "id": "16a9d038",
   "metadata": {},
   "outputs": [],
   "source": [
    "ri = ri.merge(crosswalk,how=\"left\")\n",
    "#ri.to_csv(\"manually_fix_rhode_island.csv\") # some counties were mapping with geocorr, googled and did manually "
   ]
  },
  {
   "cell_type": "code",
   "execution_count": 34,
   "id": "226d2035",
   "metadata": {},
   "outputs": [],
   "source": [
    "ri = pd.read_csv(\"final_RI_ERAP.csv\")"
   ]
  },
  {
   "cell_type": "code",
   "execution_count": 35,
   "id": "04a3a264",
   "metadata": {},
   "outputs": [],
   "source": [
    "ri = ri[[\"State\",\"cntyname2\",\"Number of Payments\",\"Total Amount of Payments\",\"Average Payment Amount\"]]\n",
    "ri = ri.groupby(\"cntyname2\").sum().reset_index()\n",
    "ri[\"State\"]= \"Rhode Island\"\n",
    "ri[\"County\"] = ri[\"cntyname2\"].str[:-2]\n",
    "ri.drop(columns=[\"cntyname2\"],inplace=True)\n",
    "ri = ri.round(2)\n",
    "ri[\"County\"] = ri[\"County\"].str.strip()"
   ]
  },
  {
   "cell_type": "code",
   "execution_count": 36,
   "id": "c29d7197",
   "metadata": {},
   "outputs": [],
   "source": [
    "### pull in states from Chae's manual scraping "
   ]
  },
  {
   "cell_type": "code",
   "execution_count": 55,
   "id": "a3290f2a",
   "metadata": {},
   "outputs": [],
   "source": [
    "scraped = pd.read_csv(\"~/Desktop/work/clean_ERAP_work/raw_data/state_erap_manual_extraction_chae_1_26_22.csv\")\n",
    "#drop alaska census areas \n",
    "scraped = scraped[~scraped.County.str.contains(\"Census Area\")]\n",
    "scraped = scraped[scraped[\"Average Payment Amount\"] != \"#DIV/0!\"]"
   ]
  },
  {
   "cell_type": "code",
   "execution_count": 56,
   "id": "1d9dd5e2",
   "metadata": {},
   "outputs": [],
   "source": [
    "for i in [\"Average Payment Amount\",\"Total Amount of Payments\"]:\n",
    "    scraped[i] = scraped[i].str.replace(',','', regex=True)\n",
    "    scraped[i] = scraped[i].str.replace('$','', regex=True)\n",
    "    "
   ]
  },
  {
   "cell_type": "markdown",
   "id": "07403aad",
   "metadata": {},
   "source": [
    "## combine "
   ]
  },
  {
   "cell_type": "code",
   "execution_count": 57,
   "id": "6a06cb2b",
   "metadata": {},
   "outputs": [],
   "source": [
    "final_erap = pd.concat([new_york_extract,missouri,wy,kansas_final,nh,louisiana,indy,minn,arizona,texas,cali,nebraska,ri,scraped])"
   ]
  },
  {
   "cell_type": "code",
   "execution_count": 58,
   "id": "46554919",
   "metadata": {},
   "outputs": [],
   "source": [
    "final_erap_simple = final_erap[[\"County\",\"State\",\n",
    "            \"Number of Payments\",\"Total Amount of Payments\",\n",
    "            \"Average Payment Amount\"]]"
   ]
  },
  {
   "cell_type": "code",
   "execution_count": null,
   "id": "b1349d12",
   "metadata": {},
   "outputs": [],
   "source": [
    "#final_erap_full = final_erap[[\"County\",\"State\",\"Number of Payments\",\"Total Amount of Payments\",\n",
    "#            \"Number of Payments\",\"Average Payment Amount\",'Rent Arrears Application', 'Prospective Rent Applications',\n",
    "#       'Utility Arrears Application','Applications in Process',\n",
    "#       'Total of Rental Assistance Issued',\n",
    "#       'Total of Utility Assistance Issued',\n",
    "#       'Total Assistance Paid and Obligated']]"
   ]
  },
  {
   "cell_type": "code",
   "execution_count": 60,
   "id": "d8e1d541",
   "metadata": {},
   "outputs": [],
   "source": [
    "final_erap_simple.to_csv(\"~/Desktop/work/clean_ERAP_work/processed_data/1_26_22_ERAP_county_main.csv\")\n",
    "#final_erap_full.to_csv(\"11_12_21_ERAP_county_augmented.csv\")"
   ]
  },
  {
   "cell_type": "code",
   "execution_count": 69,
   "id": "d7e97f3b",
   "metadata": {},
   "outputs": [
    {
     "data": {
      "text/plain": [
       "20"
      ]
     },
     "execution_count": 69,
     "metadata": {},
     "output_type": "execute_result"
    }
   ],
   "source": [
    "final_erap_simple[\"State\"].nunique()"
   ]
  },
  {
   "cell_type": "code",
   "execution_count": 139,
   "id": "9c015716",
   "metadata": {},
   "outputs": [
    {
     "ename": "NameError",
     "evalue": "name 'final_erap_simple' is not defined",
     "output_type": "error",
     "traceback": [
      "\u001b[0;31m---------------------------------------------------------------------------\u001b[0m",
      "\u001b[0;31mNameError\u001b[0m                                 Traceback (most recent call last)",
      "\u001b[0;32m<ipython-input-139-66859afcd8e6>\u001b[0m in \u001b[0;36m<module>\u001b[0;34m\u001b[0m\n\u001b[0;32m----> 1\u001b[0;31m \u001b[0mfinal_erap_simple\u001b[0m\u001b[0;34m\u001b[0m\u001b[0;34m\u001b[0m\u001b[0m\n\u001b[0m",
      "\u001b[0;31mNameError\u001b[0m: name 'final_erap_simple' is not defined"
     ]
    }
   ],
   "source": [
    "final_erap_simple"
   ]
  },
  {
   "cell_type": "code",
   "execution_count": 68,
   "id": "86470413",
   "metadata": {},
   "outputs": [
    {
     "name": "stdout",
     "output_type": "stream",
     "text": [
      "Alaska, Arizona, California, Colorado, Connecticut, Indiana, Kansas, Louisiana, Maine, Maryland, Michigan, Minnesota, Missouri, Nebraska, New Hampshire, New York, Rhode Island, Texas, Vermont, Wyoming, "
     ]
    }
   ],
   "source": [
    "for i in sorted(final_erap_simple[\"State\"].unique()):\n",
    "    print(i, end=', ')"
   ]
  }
 ],
 "metadata": {
  "kernelspec": {
   "display_name": "Python 3",
   "language": "python",
   "name": "python3"
  },
  "language_info": {
   "codemirror_mode": {
    "name": "ipython",
    "version": 3
   },
   "file_extension": ".py",
   "mimetype": "text/x-python",
   "name": "python",
   "nbconvert_exporter": "python",
   "pygments_lexer": "ipython3",
   "version": "3.9.9"
  }
 },
 "nbformat": 4,
 "nbformat_minor": 5
}
